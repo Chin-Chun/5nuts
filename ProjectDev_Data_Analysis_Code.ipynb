{
 "cells": [
  {
   "cell_type": "code",
   "execution_count": 5,
   "id": "002a82ac",
   "metadata": {},
   "outputs": [],
   "source": [
    "import pandas as pd\n",
    "import numpy as np"
   ]
  },
  {
   "cell_type": "code",
   "execution_count": 6,
   "id": "19e0e4bd",
   "metadata": {},
   "outputs": [],
   "source": [
    "import seaborn as sns\n",
    "import matplotlib.pyplot as plt"
   ]
  },
  {
   "cell_type": "code",
   "execution_count": 7,
   "id": "8a3bd610",
   "metadata": {},
   "outputs": [],
   "source": [
    "df_proportion=pd.read_csv(\"Persons aged 2 years and over - type of food avoided due to allergy or intolerance(a), 2011-12.csv\")"
   ]
  },
  {
   "cell_type": "code",
   "execution_count": 8,
   "id": "96ce8553",
   "metadata": {},
   "outputs": [
    {
     "data": {
      "text/html": [
       "<div>\n",
       "<style scoped>\n",
       "    .dataframe tbody tr th:only-of-type {\n",
       "        vertical-align: middle;\n",
       "    }\n",
       "\n",
       "    .dataframe tbody tr th {\n",
       "        vertical-align: top;\n",
       "    }\n",
       "\n",
       "    .dataframe thead th {\n",
       "        text-align: right;\n",
       "    }\n",
       "</style>\n",
       "<table border=\"1\" class=\"dataframe\">\n",
       "  <thead>\n",
       "    <tr style=\"text-align: right;\">\n",
       "      <th></th>\n",
       "      <th>Type of Food</th>\n",
       "      <th>Food avoided (%)</th>\n",
       "    </tr>\n",
       "  </thead>\n",
       "  <tbody>\n",
       "    <tr>\n",
       "      <th>0</th>\n",
       "      <td>Eggs</td>\n",
       "      <td>0.9</td>\n",
       "    </tr>\n",
       "    <tr>\n",
       "      <th>1</th>\n",
       "      <td>Cows milk/Dairy</td>\n",
       "      <td>4.5</td>\n",
       "    </tr>\n",
       "    <tr>\n",
       "      <th>2</th>\n",
       "      <td>Peanuts</td>\n",
       "      <td>1.4</td>\n",
       "    </tr>\n",
       "    <tr>\n",
       "      <th>3</th>\n",
       "      <td>Fish</td>\n",
       "      <td>0.7</td>\n",
       "    </tr>\n",
       "    <tr>\n",
       "      <th>4</th>\n",
       "      <td>Shellfish</td>\n",
       "      <td>2.0</td>\n",
       "    </tr>\n",
       "  </tbody>\n",
       "</table>\n",
       "</div>"
      ],
      "text/plain": [
       "      Type of Food  Food avoided (%)\n",
       "0             Eggs               0.9\n",
       "1  Cows milk/Dairy               4.5\n",
       "2          Peanuts               1.4\n",
       "3             Fish               0.7\n",
       "4        Shellfish               2.0"
      ]
     },
     "execution_count": 8,
     "metadata": {},
     "output_type": "execute_result"
    }
   ],
   "source": [
    "df_proportion.head()"
   ]
  },
  {
   "cell_type": "code",
   "execution_count": 14,
   "id": "f21f5a9e",
   "metadata": {},
   "outputs": [
    {
     "data": {
      "text/plain": [
       "Index(['Type of Food', 'Food avoided (%)'], dtype='object')"
      ]
     },
     "execution_count": 14,
     "metadata": {},
     "output_type": "execute_result"
    }
   ],
   "source": [
    "df_proportion.columns"
   ]
  },
  {
   "cell_type": "code",
   "execution_count": null,
   "id": "b39526a8",
   "metadata": {},
   "outputs": [],
   "source": []
  },
  {
   "cell_type": "code",
   "execution_count": 15,
   "id": "93cc0911",
   "metadata": {},
   "outputs": [
    {
     "data": {
      "text/plain": [
       "Type of Food         object\n",
       "Food avoided (%)    float64\n",
       "dtype: object"
      ]
     },
     "execution_count": 15,
     "metadata": {},
     "output_type": "execute_result"
    }
   ],
   "source": [
    "df_proportion.dtypes"
   ]
  },
  {
   "cell_type": "code",
   "execution_count": 10,
   "id": "508a1869",
   "metadata": {},
   "outputs": [
    {
     "data": {
      "text/html": [
       "<div>\n",
       "<style scoped>\n",
       "    .dataframe tbody tr th:only-of-type {\n",
       "        vertical-align: middle;\n",
       "    }\n",
       "\n",
       "    .dataframe tbody tr th {\n",
       "        vertical-align: top;\n",
       "    }\n",
       "\n",
       "    .dataframe thead th {\n",
       "        text-align: right;\n",
       "    }\n",
       "</style>\n",
       "<table border=\"1\" class=\"dataframe\">\n",
       "  <thead>\n",
       "    <tr style=\"text-align: right;\">\n",
       "      <th></th>\n",
       "      <th>Type of Food</th>\n",
       "      <th>Food avoided (%)</th>\n",
       "    </tr>\n",
       "  </thead>\n",
       "  <tbody>\n",
       "    <tr>\n",
       "      <th>0</th>\n",
       "      <td>Eggs</td>\n",
       "      <td>0.9</td>\n",
       "    </tr>\n",
       "    <tr>\n",
       "      <th>1</th>\n",
       "      <td>Cows milk/Dairy</td>\n",
       "      <td>4.5</td>\n",
       "    </tr>\n",
       "    <tr>\n",
       "      <th>2</th>\n",
       "      <td>Peanuts</td>\n",
       "      <td>1.4</td>\n",
       "    </tr>\n",
       "    <tr>\n",
       "      <th>3</th>\n",
       "      <td>Fish</td>\n",
       "      <td>0.7</td>\n",
       "    </tr>\n",
       "    <tr>\n",
       "      <th>4</th>\n",
       "      <td>Shellfish</td>\n",
       "      <td>2.0</td>\n",
       "    </tr>\n",
       "    <tr>\n",
       "      <th>5</th>\n",
       "      <td>Tree nuts</td>\n",
       "      <td>0.7</td>\n",
       "    </tr>\n",
       "    <tr>\n",
       "      <th>6</th>\n",
       "      <td>Soya</td>\n",
       "      <td>0.2</td>\n",
       "    </tr>\n",
       "    <tr>\n",
       "      <th>7</th>\n",
       "      <td>Gluten</td>\n",
       "      <td>2.5</td>\n",
       "    </tr>\n",
       "    <tr>\n",
       "      <th>8</th>\n",
       "      <td>Yeast</td>\n",
       "      <td>0.4</td>\n",
       "    </tr>\n",
       "    <tr>\n",
       "      <th>9</th>\n",
       "      <td>Other</td>\n",
       "      <td>8.5</td>\n",
       "    </tr>\n",
       "  </tbody>\n",
       "</table>\n",
       "</div>"
      ],
      "text/plain": [
       "      Type of Food  Food avoided (%)\n",
       "0             Eggs               0.9\n",
       "1  Cows milk/Dairy               4.5\n",
       "2          Peanuts               1.4\n",
       "3             Fish               0.7\n",
       "4        Shellfish               2.0\n",
       "5        Tree nuts               0.7\n",
       "6             Soya               0.2\n",
       "7           Gluten               2.5\n",
       "8            Yeast               0.4\n",
       "9            Other               8.5"
      ]
     },
     "execution_count": 10,
     "metadata": {},
     "output_type": "execute_result"
    }
   ],
   "source": [
    "df_proportion"
   ]
  },
  {
   "cell_type": "code",
   "execution_count": 7,
   "id": "e91ee942",
   "metadata": {},
   "outputs": [
    {
     "data": {
      "text/html": [
       "<div>\n",
       "<style scoped>\n",
       "    .dataframe tbody tr th:only-of-type {\n",
       "        vertical-align: middle;\n",
       "    }\n",
       "\n",
       "    .dataframe tbody tr th {\n",
       "        vertical-align: top;\n",
       "    }\n",
       "\n",
       "    .dataframe thead th {\n",
       "        text-align: right;\n",
       "    }\n",
       "</style>\n",
       "<table border=\"1\" class=\"dataframe\">\n",
       "  <thead>\n",
       "    <tr style=\"text-align: right;\">\n",
       "      <th></th>\n",
       "      <th>Food avoided (%)</th>\n",
       "    </tr>\n",
       "  </thead>\n",
       "  <tbody>\n",
       "    <tr>\n",
       "      <th>count</th>\n",
       "      <td>10.000000</td>\n",
       "    </tr>\n",
       "    <tr>\n",
       "      <th>mean</th>\n",
       "      <td>2.180000</td>\n",
       "    </tr>\n",
       "    <tr>\n",
       "      <th>std</th>\n",
       "      <td>2.564198</td>\n",
       "    </tr>\n",
       "    <tr>\n",
       "      <th>min</th>\n",
       "      <td>0.200000</td>\n",
       "    </tr>\n",
       "    <tr>\n",
       "      <th>25%</th>\n",
       "      <td>0.700000</td>\n",
       "    </tr>\n",
       "    <tr>\n",
       "      <th>50%</th>\n",
       "      <td>1.150000</td>\n",
       "    </tr>\n",
       "    <tr>\n",
       "      <th>75%</th>\n",
       "      <td>2.375000</td>\n",
       "    </tr>\n",
       "    <tr>\n",
       "      <th>max</th>\n",
       "      <td>8.500000</td>\n",
       "    </tr>\n",
       "  </tbody>\n",
       "</table>\n",
       "</div>"
      ],
      "text/plain": [
       "       Food avoided (%)\n",
       "count         10.000000\n",
       "mean           2.180000\n",
       "std            2.564198\n",
       "min            0.200000\n",
       "25%            0.700000\n",
       "50%            1.150000\n",
       "75%            2.375000\n",
       "max            8.500000"
      ]
     },
     "execution_count": 7,
     "metadata": {},
     "output_type": "execute_result"
    }
   ],
   "source": [
    "df_proportion.describe()"
   ]
  },
  {
   "cell_type": "code",
   "execution_count": 2,
   "id": "3b92c763",
   "metadata": {},
   "outputs": [],
   "source": [
    "import seaborn as sns"
   ]
  },
  {
   "cell_type": "code",
   "execution_count": 3,
   "id": "0b2dc2c1",
   "metadata": {},
   "outputs": [],
   "source": [
    "import matplotlib.pyplot as plt\n",
    "%matplotlib inline\n",
    "sns.set()"
   ]
  },
  {
   "cell_type": "code",
   "execution_count": 3,
   "id": "ede2193b",
   "metadata": {},
   "outputs": [],
   "source": [
    "hospital_df=pd.read_csv(\"Main_hospital_list_victoria.csv\")\n"
   ]
  },
  {
   "cell_type": "code",
   "execution_count": 7,
   "id": "a2cae076",
   "metadata": {},
   "outputs": [
    {
     "data": {
      "text/html": [
       "<div>\n",
       "<style scoped>\n",
       "    .dataframe tbody tr th:only-of-type {\n",
       "        vertical-align: middle;\n",
       "    }\n",
       "\n",
       "    .dataframe tbody tr th {\n",
       "        vertical-align: top;\n",
       "    }\n",
       "\n",
       "    .dataframe thead th {\n",
       "        text-align: right;\n",
       "    }\n",
       "</style>\n",
       "<table border=\"1\" class=\"dataframe\">\n",
       "  <thead>\n",
       "    <tr style=\"text-align: right;\">\n",
       "      <th></th>\n",
       "      <th>Hospital ID</th>\n",
       "      <th>Formal Name</th>\n",
       "      <th>Other Name</th>\n",
       "      <th>Emergency Capable</th>\n",
       "      <th>Location Address</th>\n",
       "      <th>Suburb</th>\n",
       "      <th>Postcode</th>\n",
       "      <th>Access Point</th>\n",
       "      <th>Category</th>\n",
       "      <th>Agency Type</th>\n",
       "    </tr>\n",
       "  </thead>\n",
       "  <tbody>\n",
       "    <tr>\n",
       "      <th>0</th>\n",
       "      <td>5488</td>\n",
       "      <td>Albert Road Clinic</td>\n",
       "      <td>Albert Road Clinic</td>\n",
       "      <td>NO</td>\n",
       "      <td>31-33 Albert Road</td>\n",
       "      <td>South Melbourne</td>\n",
       "      <td>3205</td>\n",
       "      <td>NaN</td>\n",
       "      <td>PRIVATE</td>\n",
       "      <td>Private Hospital</td>\n",
       "    </tr>\n",
       "    <tr>\n",
       "      <th>1</th>\n",
       "      <td>3485</td>\n",
       "      <td>Albury Wodonga Health</td>\n",
       "      <td>Albury Wodonga Health</td>\n",
       "      <td>YES</td>\n",
       "      <td>69 Vermont Street</td>\n",
       "      <td>Wodonga</td>\n",
       "      <td>3690</td>\n",
       "      <td>NaN</td>\n",
       "      <td>PUBLIC</td>\n",
       "      <td>Public Hospital</td>\n",
       "    </tr>\n",
       "    <tr>\n",
       "      <th>2</th>\n",
       "      <td>12990</td>\n",
       "      <td>Albury Wodonga Health, Albury Campus</td>\n",
       "      <td>Albury Wodonga Health, Albury Campus</td>\n",
       "      <td>YES</td>\n",
       "      <td>Borella</td>\n",
       "      <td>Albury</td>\n",
       "      <td>2640</td>\n",
       "      <td>NaN</td>\n",
       "      <td>PUBLIC</td>\n",
       "      <td>Public Hospital</td>\n",
       "    </tr>\n",
       "    <tr>\n",
       "      <th>3</th>\n",
       "      <td>3491</td>\n",
       "      <td>Alexandra District Health</td>\n",
       "      <td>Alexandra District Health</td>\n",
       "      <td>NO</td>\n",
       "      <td>20 Cooper Street</td>\n",
       "      <td>Alexandra</td>\n",
       "      <td>3714</td>\n",
       "      <td>NaN</td>\n",
       "      <td>PUBLIC</td>\n",
       "      <td>Public Hospital</td>\n",
       "    </tr>\n",
       "    <tr>\n",
       "      <th>4</th>\n",
       "      <td>11519</td>\n",
       "      <td>Alfred Health</td>\n",
       "      <td>Alfred Health</td>\n",
       "      <td>NO</td>\n",
       "      <td>Commercial Road</td>\n",
       "      <td>Melbourne</td>\n",
       "      <td>3004</td>\n",
       "      <td>NaN</td>\n",
       "      <td>PUBLIC</td>\n",
       "      <td>Public Hospital</td>\n",
       "    </tr>\n",
       "    <tr>\n",
       "      <th>...</th>\n",
       "      <td>...</td>\n",
       "      <td>...</td>\n",
       "      <td>...</td>\n",
       "      <td>...</td>\n",
       "      <td>...</td>\n",
       "      <td>...</td>\n",
       "      <td>...</td>\n",
       "      <td>...</td>\n",
       "      <td>...</td>\n",
       "      <td>...</td>\n",
       "    </tr>\n",
       "    <tr>\n",
       "      <th>95</th>\n",
       "      <td>3510</td>\n",
       "      <td>Healesville and District Hospital</td>\n",
       "      <td>Healesville and District Hospital</td>\n",
       "      <td>NO</td>\n",
       "      <td>377 Maroondah Highway</td>\n",
       "      <td>Healesville</td>\n",
       "      <td>3777</td>\n",
       "      <td>NaN</td>\n",
       "      <td>PUBLIC</td>\n",
       "      <td>Public Hospital</td>\n",
       "    </tr>\n",
       "    <tr>\n",
       "      <th>96</th>\n",
       "      <td>6355</td>\n",
       "      <td>Heathcote Health</td>\n",
       "      <td>Heathcote Health</td>\n",
       "      <td>NO</td>\n",
       "      <td>39 Hospital Street</td>\n",
       "      <td>Heathcote</td>\n",
       "      <td>3523</td>\n",
       "      <td>NaN</td>\n",
       "      <td>PUBLIC</td>\n",
       "      <td>Public Hospital</td>\n",
       "    </tr>\n",
       "    <tr>\n",
       "      <th>97</th>\n",
       "      <td>10766</td>\n",
       "      <td>Heidelberg Endoscopy and Day Surgery Centre</td>\n",
       "      <td>Heidelberg Endoscopy and Day Surgery Centre</td>\n",
       "      <td>NO</td>\n",
       "      <td>177-179 Northern Road</td>\n",
       "      <td>Heidelberg</td>\n",
       "      <td>3081</td>\n",
       "      <td>NaN</td>\n",
       "      <td>PRIVATE</td>\n",
       "      <td>Day Procedure Centre</td>\n",
       "    </tr>\n",
       "    <tr>\n",
       "      <th>98</th>\n",
       "      <td>6873</td>\n",
       "      <td>Hesse Rural Health Service</td>\n",
       "      <td>Hesse Rural Health Service</td>\n",
       "      <td>NO</td>\n",
       "      <td>8 Gosney Street</td>\n",
       "      <td>Winchelsea</td>\n",
       "      <td>3241</td>\n",
       "      <td>NaN</td>\n",
       "      <td>PUBLIC</td>\n",
       "      <td>Public Hospital</td>\n",
       "    </tr>\n",
       "    <tr>\n",
       "      <th>99</th>\n",
       "      <td>2455</td>\n",
       "      <td>Heyfield Hospital Inc.</td>\n",
       "      <td>Heyfield Hospital Inc.</td>\n",
       "      <td>NO</td>\n",
       "      <td>21 Tyson Road</td>\n",
       "      <td>Heyfield</td>\n",
       "      <td>3858</td>\n",
       "      <td>NaN</td>\n",
       "      <td>PRIVATE</td>\n",
       "      <td>Bush Nursing Hospital</td>\n",
       "    </tr>\n",
       "  </tbody>\n",
       "</table>\n",
       "<p>100 rows × 10 columns</p>\n",
       "</div>"
      ],
      "text/plain": [
       "    Hospital ID                                  Formal Name  \\\n",
       "0          5488                           Albert Road Clinic   \n",
       "1          3485                        Albury Wodonga Health   \n",
       "2         12990         Albury Wodonga Health, Albury Campus   \n",
       "3          3491                    Alexandra District Health   \n",
       "4         11519                                Alfred Health   \n",
       "..          ...                                          ...   \n",
       "95         3510            Healesville and District Hospital   \n",
       "96         6355                             Heathcote Health   \n",
       "97        10766  Heidelberg Endoscopy and Day Surgery Centre   \n",
       "98         6873                   Hesse Rural Health Service   \n",
       "99         2455                       Heyfield Hospital Inc.   \n",
       "\n",
       "                                     Other Name Emergency Capable  \\\n",
       "0                            Albert Road Clinic                NO   \n",
       "1                         Albury Wodonga Health               YES   \n",
       "2          Albury Wodonga Health, Albury Campus               YES   \n",
       "3                     Alexandra District Health                NO   \n",
       "4                                 Alfred Health                NO   \n",
       "..                                          ...               ...   \n",
       "95            Healesville and District Hospital                NO   \n",
       "96                             Heathcote Health                NO   \n",
       "97  Heidelberg Endoscopy and Day Surgery Centre                NO   \n",
       "98                   Hesse Rural Health Service                NO   \n",
       "99                       Heyfield Hospital Inc.                NO   \n",
       "\n",
       "         Location Address           Suburb  Postcode  Access Point Category  \\\n",
       "0       31-33 Albert Road  South Melbourne      3205           NaN  PRIVATE   \n",
       "1       69 Vermont Street          Wodonga      3690           NaN   PUBLIC   \n",
       "2                 Borella           Albury      2640           NaN   PUBLIC   \n",
       "3        20 Cooper Street        Alexandra      3714           NaN   PUBLIC   \n",
       "4         Commercial Road        Melbourne      3004           NaN   PUBLIC   \n",
       "..                    ...              ...       ...           ...      ...   \n",
       "95  377 Maroondah Highway      Healesville      3777           NaN   PUBLIC   \n",
       "96     39 Hospital Street        Heathcote      3523           NaN   PUBLIC   \n",
       "97  177-179 Northern Road       Heidelberg      3081           NaN  PRIVATE   \n",
       "98        8 Gosney Street       Winchelsea      3241           NaN   PUBLIC   \n",
       "99          21 Tyson Road         Heyfield      3858           NaN  PRIVATE   \n",
       "\n",
       "              Agency Type  \n",
       "0        Private Hospital  \n",
       "1         Public Hospital  \n",
       "2         Public Hospital  \n",
       "3         Public Hospital  \n",
       "4         Public Hospital  \n",
       "..                    ...  \n",
       "95        Public Hospital  \n",
       "96        Public Hospital  \n",
       "97   Day Procedure Centre  \n",
       "98        Public Hospital  \n",
       "99  Bush Nursing Hospital  \n",
       "\n",
       "[100 rows x 10 columns]"
      ]
     },
     "execution_count": 7,
     "metadata": {},
     "output_type": "execute_result"
    }
   ],
   "source": [
    "hospital_df.head(100)"
   ]
  },
  {
   "cell_type": "code",
   "execution_count": 8,
   "id": "7d735692",
   "metadata": {},
   "outputs": [
    {
     "data": {
      "text/plain": [
       "Index(['Hospital ID', 'Formal Name', 'Other Name', 'Emergency Capable',\n",
       "       'Location Address', 'Suburb', 'Postcode', 'Access Point', 'Category',\n",
       "       'Agency Type'],\n",
       "      dtype='object')"
      ]
     },
     "execution_count": 8,
     "metadata": {},
     "output_type": "execute_result"
    }
   ],
   "source": [
    "hospital_df.columns"
   ]
  },
  {
   "cell_type": "code",
   "execution_count": 11,
   "id": "48247fe4",
   "metadata": {},
   "outputs": [
    {
     "name": "stdout",
     "output_type": "stream",
     "text": [
      "<class 'pandas.core.frame.DataFrame'>\n",
      "RangeIndex: 269 entries, 0 to 268\n",
      "Data columns (total 10 columns):\n",
      " #   Column             Non-Null Count  Dtype  \n",
      "---  ------             --------------  -----  \n",
      " 0   Hospital ID        269 non-null    int64  \n",
      " 1   Formal Name        269 non-null    object \n",
      " 2   Other Name         269 non-null    object \n",
      " 3   Emergency Capable  269 non-null    object \n",
      " 4   Location Address   269 non-null    object \n",
      " 5   Suburb             269 non-null    object \n",
      " 6   Postcode           269 non-null    int64  \n",
      " 7   Access Point       0 non-null      float64\n",
      " 8   Category           269 non-null    object \n",
      " 9   Agency Type        269 non-null    object \n",
      "dtypes: float64(1), int64(2), object(7)\n",
      "memory usage: 21.1+ KB\n"
     ]
    }
   ],
   "source": [
    "hospital_df.info()"
   ]
  },
  {
   "cell_type": "code",
   "execution_count": 13,
   "id": "bff2a804",
   "metadata": {},
   "outputs": [
    {
     "data": {
      "text/plain": [
       "Hospital ID            0\n",
       "Formal Name            0\n",
       "Other Name             0\n",
       "Emergency Capable      0\n",
       "Location Address       0\n",
       "Suburb                 0\n",
       "Postcode               0\n",
       "Access Point         269\n",
       "Category               0\n",
       "Agency Type            0\n",
       "dtype: int64"
      ]
     },
     "execution_count": 13,
     "metadata": {},
     "output_type": "execute_result"
    }
   ],
   "source": [
    "hospital_df.isnull().sum()"
   ]
  },
  {
   "cell_type": "code",
   "execution_count": 17,
   "id": "f12d851a",
   "metadata": {},
   "outputs": [
    {
     "data": {
      "text/plain": [
       "(269, 10)"
      ]
     },
     "execution_count": 17,
     "metadata": {},
     "output_type": "execute_result"
    }
   ],
   "source": [
    "hospital_df.shape"
   ]
  },
  {
   "cell_type": "code",
   "execution_count": 18,
   "id": "5f82d901",
   "metadata": {},
   "outputs": [],
   "source": [
    "hospital_df.drop('Other Name',\n",
    "  axis='columns', inplace=True)"
   ]
  },
  {
   "cell_type": "code",
   "execution_count": 20,
   "id": "e84b748c",
   "metadata": {},
   "outputs": [
    {
     "data": {
      "text/html": [
       "<div>\n",
       "<style scoped>\n",
       "    .dataframe tbody tr th:only-of-type {\n",
       "        vertical-align: middle;\n",
       "    }\n",
       "\n",
       "    .dataframe tbody tr th {\n",
       "        vertical-align: top;\n",
       "    }\n",
       "\n",
       "    .dataframe thead th {\n",
       "        text-align: right;\n",
       "    }\n",
       "</style>\n",
       "<table border=\"1\" class=\"dataframe\">\n",
       "  <thead>\n",
       "    <tr style=\"text-align: right;\">\n",
       "      <th></th>\n",
       "      <th>Hospital ID</th>\n",
       "      <th>Formal Name</th>\n",
       "      <th>Emergency Capable</th>\n",
       "      <th>Location Address</th>\n",
       "      <th>Suburb</th>\n",
       "      <th>Postcode</th>\n",
       "      <th>Access Point</th>\n",
       "      <th>Category</th>\n",
       "      <th>Agency Type</th>\n",
       "    </tr>\n",
       "  </thead>\n",
       "  <tbody>\n",
       "    <tr>\n",
       "      <th>0</th>\n",
       "      <td>5488</td>\n",
       "      <td>Albert Road Clinic</td>\n",
       "      <td>NO</td>\n",
       "      <td>31-33 Albert Road</td>\n",
       "      <td>South Melbourne</td>\n",
       "      <td>3205</td>\n",
       "      <td>NaN</td>\n",
       "      <td>PRIVATE</td>\n",
       "      <td>Private Hospital</td>\n",
       "    </tr>\n",
       "    <tr>\n",
       "      <th>1</th>\n",
       "      <td>3485</td>\n",
       "      <td>Albury Wodonga Health</td>\n",
       "      <td>YES</td>\n",
       "      <td>69 Vermont Street</td>\n",
       "      <td>Wodonga</td>\n",
       "      <td>3690</td>\n",
       "      <td>NaN</td>\n",
       "      <td>PUBLIC</td>\n",
       "      <td>Public Hospital</td>\n",
       "    </tr>\n",
       "    <tr>\n",
       "      <th>2</th>\n",
       "      <td>12990</td>\n",
       "      <td>Albury Wodonga Health, Albury Campus</td>\n",
       "      <td>YES</td>\n",
       "      <td>Borella</td>\n",
       "      <td>Albury</td>\n",
       "      <td>2640</td>\n",
       "      <td>NaN</td>\n",
       "      <td>PUBLIC</td>\n",
       "      <td>Public Hospital</td>\n",
       "    </tr>\n",
       "    <tr>\n",
       "      <th>3</th>\n",
       "      <td>3491</td>\n",
       "      <td>Alexandra District Health</td>\n",
       "      <td>NO</td>\n",
       "      <td>20 Cooper Street</td>\n",
       "      <td>Alexandra</td>\n",
       "      <td>3714</td>\n",
       "      <td>NaN</td>\n",
       "      <td>PUBLIC</td>\n",
       "      <td>Public Hospital</td>\n",
       "    </tr>\n",
       "    <tr>\n",
       "      <th>4</th>\n",
       "      <td>11519</td>\n",
       "      <td>Alfred Health</td>\n",
       "      <td>NO</td>\n",
       "      <td>Commercial Road</td>\n",
       "      <td>Melbourne</td>\n",
       "      <td>3004</td>\n",
       "      <td>NaN</td>\n",
       "      <td>PUBLIC</td>\n",
       "      <td>Public Hospital</td>\n",
       "    </tr>\n",
       "  </tbody>\n",
       "</table>\n",
       "</div>"
      ],
      "text/plain": [
       "   Hospital ID                           Formal Name Emergency Capable  \\\n",
       "0         5488                    Albert Road Clinic                NO   \n",
       "1         3485                 Albury Wodonga Health               YES   \n",
       "2        12990  Albury Wodonga Health, Albury Campus               YES   \n",
       "3         3491             Alexandra District Health                NO   \n",
       "4        11519                         Alfred Health                NO   \n",
       "\n",
       "    Location Address           Suburb  Postcode  Access Point Category  \\\n",
       "0  31-33 Albert Road  South Melbourne      3205           NaN  PRIVATE   \n",
       "1  69 Vermont Street          Wodonga      3690           NaN   PUBLIC   \n",
       "2            Borella           Albury      2640           NaN   PUBLIC   \n",
       "3   20 Cooper Street        Alexandra      3714           NaN   PUBLIC   \n",
       "4    Commercial Road        Melbourne      3004           NaN   PUBLIC   \n",
       "\n",
       "        Agency Type  \n",
       "0  Private Hospital  \n",
       "1   Public Hospital  \n",
       "2   Public Hospital  \n",
       "3   Public Hospital  \n",
       "4   Public Hospital  "
      ]
     },
     "execution_count": 20,
     "metadata": {},
     "output_type": "execute_result"
    }
   ],
   "source": [
    "hospital_df.head()"
   ]
  },
  {
   "cell_type": "code",
   "execution_count": 21,
   "id": "caada814",
   "metadata": {},
   "outputs": [],
   "source": [
    "hospital_df = hospital_df.rename(columns={\"Formal Name\":\"Hospital Name\"})\n"
   ]
  },
  {
   "cell_type": "code",
   "execution_count": 23,
   "id": "f95b94ce",
   "metadata": {},
   "outputs": [
    {
     "data": {
      "text/html": [
       "<div>\n",
       "<style scoped>\n",
       "    .dataframe tbody tr th:only-of-type {\n",
       "        vertical-align: middle;\n",
       "    }\n",
       "\n",
       "    .dataframe tbody tr th {\n",
       "        vertical-align: top;\n",
       "    }\n",
       "\n",
       "    .dataframe thead th {\n",
       "        text-align: right;\n",
       "    }\n",
       "</style>\n",
       "<table border=\"1\" class=\"dataframe\">\n",
       "  <thead>\n",
       "    <tr style=\"text-align: right;\">\n",
       "      <th></th>\n",
       "      <th>Hospital ID</th>\n",
       "      <th>Hospital Name</th>\n",
       "      <th>Emergency Capable</th>\n",
       "      <th>Location Address</th>\n",
       "      <th>Suburb</th>\n",
       "      <th>Postcode</th>\n",
       "      <th>Access Point</th>\n",
       "      <th>Category</th>\n",
       "      <th>Agency Type</th>\n",
       "    </tr>\n",
       "  </thead>\n",
       "  <tbody>\n",
       "    <tr>\n",
       "      <th>0</th>\n",
       "      <td>5488</td>\n",
       "      <td>Albert Road Clinic</td>\n",
       "      <td>NO</td>\n",
       "      <td>31-33 Albert Road</td>\n",
       "      <td>South Melbourne</td>\n",
       "      <td>3205</td>\n",
       "      <td>NaN</td>\n",
       "      <td>PRIVATE</td>\n",
       "      <td>Private Hospital</td>\n",
       "    </tr>\n",
       "    <tr>\n",
       "      <th>1</th>\n",
       "      <td>3485</td>\n",
       "      <td>Albury Wodonga Health</td>\n",
       "      <td>YES</td>\n",
       "      <td>69 Vermont Street</td>\n",
       "      <td>Wodonga</td>\n",
       "      <td>3690</td>\n",
       "      <td>NaN</td>\n",
       "      <td>PUBLIC</td>\n",
       "      <td>Public Hospital</td>\n",
       "    </tr>\n",
       "    <tr>\n",
       "      <th>2</th>\n",
       "      <td>12990</td>\n",
       "      <td>Albury Wodonga Health, Albury Campus</td>\n",
       "      <td>YES</td>\n",
       "      <td>Borella</td>\n",
       "      <td>Albury</td>\n",
       "      <td>2640</td>\n",
       "      <td>NaN</td>\n",
       "      <td>PUBLIC</td>\n",
       "      <td>Public Hospital</td>\n",
       "    </tr>\n",
       "    <tr>\n",
       "      <th>3</th>\n",
       "      <td>3491</td>\n",
       "      <td>Alexandra District Health</td>\n",
       "      <td>NO</td>\n",
       "      <td>20 Cooper Street</td>\n",
       "      <td>Alexandra</td>\n",
       "      <td>3714</td>\n",
       "      <td>NaN</td>\n",
       "      <td>PUBLIC</td>\n",
       "      <td>Public Hospital</td>\n",
       "    </tr>\n",
       "    <tr>\n",
       "      <th>4</th>\n",
       "      <td>11519</td>\n",
       "      <td>Alfred Health</td>\n",
       "      <td>NO</td>\n",
       "      <td>Commercial Road</td>\n",
       "      <td>Melbourne</td>\n",
       "      <td>3004</td>\n",
       "      <td>NaN</td>\n",
       "      <td>PUBLIC</td>\n",
       "      <td>Public Hospital</td>\n",
       "    </tr>\n",
       "    <tr>\n",
       "      <th>5</th>\n",
       "      <td>5618</td>\n",
       "      <td>Alpine Health</td>\n",
       "      <td>NO</td>\n",
       "      <td>30 O'Donnell Avenue</td>\n",
       "      <td>Myrtleford</td>\n",
       "      <td>3737</td>\n",
       "      <td>NaN</td>\n",
       "      <td>PUBLIC</td>\n",
       "      <td>Multi Purpose Service</td>\n",
       "    </tr>\n",
       "    <tr>\n",
       "      <th>6</th>\n",
       "      <td>3483</td>\n",
       "      <td>Angliss Hospital</td>\n",
       "      <td>YES</td>\n",
       "      <td>Albert Street</td>\n",
       "      <td>Upper Ferntree Gully</td>\n",
       "      <td>3156</td>\n",
       "      <td>NaN</td>\n",
       "      <td>PUBLIC</td>\n",
       "      <td>Public Hospital</td>\n",
       "    </tr>\n",
       "    <tr>\n",
       "      <th>7</th>\n",
       "      <td>12266</td>\n",
       "      <td>Appearance Medical Centre</td>\n",
       "      <td>NO</td>\n",
       "      <td>57 Garsed Street</td>\n",
       "      <td>Bendigo</td>\n",
       "      <td>3550</td>\n",
       "      <td>NaN</td>\n",
       "      <td>PRIVATE</td>\n",
       "      <td>Day Procedure Centre</td>\n",
       "    </tr>\n",
       "    <tr>\n",
       "      <th>8</th>\n",
       "      <td>3401</td>\n",
       "      <td>Austin Health</td>\n",
       "      <td>NO</td>\n",
       "      <td>145 Studley Road</td>\n",
       "      <td>Heidelberg</td>\n",
       "      <td>3084</td>\n",
       "      <td>NaN</td>\n",
       "      <td>PUBLIC</td>\n",
       "      <td>Public Hospital</td>\n",
       "    </tr>\n",
       "    <tr>\n",
       "      <th>9</th>\n",
       "      <td>11733</td>\n",
       "      <td>Austin Health - Austin Hospital</td>\n",
       "      <td>YES</td>\n",
       "      <td>145 Studley Road</td>\n",
       "      <td>Heidelberg</td>\n",
       "      <td>3084</td>\n",
       "      <td>NaN</td>\n",
       "      <td>PUBLIC</td>\n",
       "      <td>Public Hospital</td>\n",
       "    </tr>\n",
       "  </tbody>\n",
       "</table>\n",
       "</div>"
      ],
      "text/plain": [
       "   Hospital ID                         Hospital Name Emergency Capable  \\\n",
       "0         5488                    Albert Road Clinic                NO   \n",
       "1         3485                 Albury Wodonga Health               YES   \n",
       "2        12990  Albury Wodonga Health, Albury Campus               YES   \n",
       "3         3491             Alexandra District Health                NO   \n",
       "4        11519                         Alfred Health                NO   \n",
       "5         5618                         Alpine Health                NO   \n",
       "6         3483                      Angliss Hospital               YES   \n",
       "7        12266             Appearance Medical Centre                NO   \n",
       "8         3401                         Austin Health                NO   \n",
       "9        11733       Austin Health - Austin Hospital               YES   \n",
       "\n",
       "      Location Address                Suburb  Postcode  Access Point Category  \\\n",
       "0    31-33 Albert Road       South Melbourne      3205           NaN  PRIVATE   \n",
       "1    69 Vermont Street               Wodonga      3690           NaN   PUBLIC   \n",
       "2              Borella                Albury      2640           NaN   PUBLIC   \n",
       "3     20 Cooper Street             Alexandra      3714           NaN   PUBLIC   \n",
       "4      Commercial Road             Melbourne      3004           NaN   PUBLIC   \n",
       "5  30 O'Donnell Avenue            Myrtleford      3737           NaN   PUBLIC   \n",
       "6        Albert Street  Upper Ferntree Gully      3156           NaN   PUBLIC   \n",
       "7     57 Garsed Street               Bendigo      3550           NaN  PRIVATE   \n",
       "8     145 Studley Road            Heidelberg      3084           NaN   PUBLIC   \n",
       "9     145 Studley Road            Heidelberg      3084           NaN   PUBLIC   \n",
       "\n",
       "             Agency Type  \n",
       "0       Private Hospital  \n",
       "1        Public Hospital  \n",
       "2        Public Hospital  \n",
       "3        Public Hospital  \n",
       "4        Public Hospital  \n",
       "5  Multi Purpose Service  \n",
       "6        Public Hospital  \n",
       "7   Day Procedure Centre  \n",
       "8        Public Hospital  \n",
       "9        Public Hospital  "
      ]
     },
     "execution_count": 23,
     "metadata": {},
     "output_type": "execute_result"
    }
   ],
   "source": [
    "hospital_df.head(10)"
   ]
  },
  {
   "cell_type": "code",
   "execution_count": 24,
   "id": "aa50f919",
   "metadata": {},
   "outputs": [],
   "source": [
    "hospital_df.drop('Access Point',\n",
    "  axis='columns', inplace=True)"
   ]
  },
  {
   "cell_type": "code",
   "execution_count": 27,
   "id": "69baabea",
   "metadata": {},
   "outputs": [
    {
     "data": {
      "text/html": [
       "<div>\n",
       "<style scoped>\n",
       "    .dataframe tbody tr th:only-of-type {\n",
       "        vertical-align: middle;\n",
       "    }\n",
       "\n",
       "    .dataframe tbody tr th {\n",
       "        vertical-align: top;\n",
       "    }\n",
       "\n",
       "    .dataframe thead th {\n",
       "        text-align: right;\n",
       "    }\n",
       "</style>\n",
       "<table border=\"1\" class=\"dataframe\">\n",
       "  <thead>\n",
       "    <tr style=\"text-align: right;\">\n",
       "      <th></th>\n",
       "      <th>Hospital ID</th>\n",
       "      <th>Hospital Name</th>\n",
       "      <th>Emergency Capable</th>\n",
       "      <th>Location Address</th>\n",
       "      <th>Suburb</th>\n",
       "      <th>Postcode</th>\n",
       "      <th>Category</th>\n",
       "      <th>Agency Type</th>\n",
       "    </tr>\n",
       "  </thead>\n",
       "  <tbody>\n",
       "    <tr>\n",
       "      <th>0</th>\n",
       "      <td>5488</td>\n",
       "      <td>Albert Road Clinic</td>\n",
       "      <td>NO</td>\n",
       "      <td>31-33 Albert Road</td>\n",
       "      <td>South Melbourne</td>\n",
       "      <td>3205</td>\n",
       "      <td>PRIVATE</td>\n",
       "      <td>Private Hospital</td>\n",
       "    </tr>\n",
       "  </tbody>\n",
       "</table>\n",
       "</div>"
      ],
      "text/plain": [
       "   Hospital ID       Hospital Name Emergency Capable   Location Address  \\\n",
       "0         5488  Albert Road Clinic                NO  31-33 Albert Road   \n",
       "\n",
       "            Suburb  Postcode Category       Agency Type  \n",
       "0  South Melbourne      3205  PRIVATE  Private Hospital  "
      ]
     },
     "execution_count": 27,
     "metadata": {},
     "output_type": "execute_result"
    }
   ],
   "source": [
    "hospital_df.head(1)"
   ]
  },
  {
   "cell_type": "markdown",
   "id": "27b0c3b9",
   "metadata": {},
   "source": [
    "Checking unique values of hospitals"
   ]
  },
  {
   "cell_type": "code",
   "execution_count": 30,
   "id": "3983fd5c",
   "metadata": {},
   "outputs": [],
   "source": [
    "n = len(pd.unique(hospital_df['Hospital Name']))"
   ]
  },
  {
   "cell_type": "code",
   "execution_count": 39,
   "id": "4ffbc3d2",
   "metadata": {},
   "outputs": [
    {
     "data": {
      "text/plain": [
       "269"
      ]
     },
     "execution_count": 39,
     "metadata": {},
     "output_type": "execute_result"
    }
   ],
   "source": [
    "n"
   ]
  },
  {
   "cell_type": "code",
   "execution_count": 41,
   "id": "df12144b",
   "metadata": {},
   "outputs": [
    {
     "data": {
      "text/html": [
       "<div>\n",
       "<style scoped>\n",
       "    .dataframe tbody tr th:only-of-type {\n",
       "        vertical-align: middle;\n",
       "    }\n",
       "\n",
       "    .dataframe tbody tr th {\n",
       "        vertical-align: top;\n",
       "    }\n",
       "\n",
       "    .dataframe thead th {\n",
       "        text-align: right;\n",
       "    }\n",
       "</style>\n",
       "<table border=\"1\" class=\"dataframe\">\n",
       "  <thead>\n",
       "    <tr style=\"text-align: right;\">\n",
       "      <th></th>\n",
       "      <th>Hospital ID</th>\n",
       "      <th>Hospital Name</th>\n",
       "      <th>Emergency Capable</th>\n",
       "      <th>Location Address</th>\n",
       "      <th>Suburb</th>\n",
       "      <th>Postcode</th>\n",
       "      <th>Category</th>\n",
       "      <th>Agency Type</th>\n",
       "    </tr>\n",
       "  </thead>\n",
       "  <tbody>\n",
       "    <tr>\n",
       "      <th>0</th>\n",
       "      <td>5488</td>\n",
       "      <td>Albert Road Clinic</td>\n",
       "      <td>NO</td>\n",
       "      <td>31-33 Albert Road</td>\n",
       "      <td>South Melbourne</td>\n",
       "      <td>3205</td>\n",
       "      <td>PRIVATE</td>\n",
       "      <td>Private Hospital</td>\n",
       "    </tr>\n",
       "    <tr>\n",
       "      <th>1</th>\n",
       "      <td>3485</td>\n",
       "      <td>Albury Wodonga Health</td>\n",
       "      <td>YES</td>\n",
       "      <td>69 Vermont Street</td>\n",
       "      <td>Wodonga</td>\n",
       "      <td>3690</td>\n",
       "      <td>PUBLIC</td>\n",
       "      <td>Public Hospital</td>\n",
       "    </tr>\n",
       "    <tr>\n",
       "      <th>2</th>\n",
       "      <td>12990</td>\n",
       "      <td>Albury Wodonga Health, Albury Campus</td>\n",
       "      <td>YES</td>\n",
       "      <td>Borella</td>\n",
       "      <td>Albury</td>\n",
       "      <td>2640</td>\n",
       "      <td>PUBLIC</td>\n",
       "      <td>Public Hospital</td>\n",
       "    </tr>\n",
       "    <tr>\n",
       "      <th>3</th>\n",
       "      <td>3491</td>\n",
       "      <td>Alexandra District Health</td>\n",
       "      <td>NO</td>\n",
       "      <td>20 Cooper Street</td>\n",
       "      <td>Alexandra</td>\n",
       "      <td>3714</td>\n",
       "      <td>PUBLIC</td>\n",
       "      <td>Public Hospital</td>\n",
       "    </tr>\n",
       "    <tr>\n",
       "      <th>4</th>\n",
       "      <td>11519</td>\n",
       "      <td>Alfred Health</td>\n",
       "      <td>NO</td>\n",
       "      <td>Commercial Road</td>\n",
       "      <td>Melbourne</td>\n",
       "      <td>3004</td>\n",
       "      <td>PUBLIC</td>\n",
       "      <td>Public Hospital</td>\n",
       "    </tr>\n",
       "  </tbody>\n",
       "</table>\n",
       "</div>"
      ],
      "text/plain": [
       "   Hospital ID                         Hospital Name Emergency Capable  \\\n",
       "0         5488                    Albert Road Clinic                NO   \n",
       "1         3485                 Albury Wodonga Health               YES   \n",
       "2        12990  Albury Wodonga Health, Albury Campus               YES   \n",
       "3         3491             Alexandra District Health                NO   \n",
       "4        11519                         Alfred Health                NO   \n",
       "\n",
       "    Location Address           Suburb  Postcode Category       Agency Type  \n",
       "0  31-33 Albert Road  South Melbourne      3205  PRIVATE  Private Hospital  \n",
       "1  69 Vermont Street          Wodonga      3690   PUBLIC   Public Hospital  \n",
       "2            Borella           Albury      2640   PUBLIC   Public Hospital  \n",
       "3   20 Cooper Street        Alexandra      3714   PUBLIC   Public Hospital  \n",
       "4    Commercial Road        Melbourne      3004   PUBLIC   Public Hospital  "
      ]
     },
     "execution_count": 41,
     "metadata": {},
     "output_type": "execute_result"
    }
   ],
   "source": [
    "hospital_df.head()"
   ]
  },
  {
   "cell_type": "code",
   "execution_count": 43,
   "id": "d057ee2e",
   "metadata": {},
   "outputs": [],
   "source": [
    "emergency_hospital_df = hospital_df.loc[hospital_df['Emergency Capable'] == 'YES']"
   ]
  },
  {
   "cell_type": "code",
   "execution_count": 45,
   "id": "07b0d38b",
   "metadata": {},
   "outputs": [
    {
     "data": {
      "text/html": [
       "<div>\n",
       "<style scoped>\n",
       "    .dataframe tbody tr th:only-of-type {\n",
       "        vertical-align: middle;\n",
       "    }\n",
       "\n",
       "    .dataframe tbody tr th {\n",
       "        vertical-align: top;\n",
       "    }\n",
       "\n",
       "    .dataframe thead th {\n",
       "        text-align: right;\n",
       "    }\n",
       "</style>\n",
       "<table border=\"1\" class=\"dataframe\">\n",
       "  <thead>\n",
       "    <tr style=\"text-align: right;\">\n",
       "      <th></th>\n",
       "      <th>Hospital ID</th>\n",
       "      <th>Hospital Name</th>\n",
       "      <th>Emergency Capable</th>\n",
       "      <th>Location Address</th>\n",
       "      <th>Suburb</th>\n",
       "      <th>Postcode</th>\n",
       "      <th>Category</th>\n",
       "      <th>Agency Type</th>\n",
       "    </tr>\n",
       "  </thead>\n",
       "  <tbody>\n",
       "    <tr>\n",
       "      <th>1</th>\n",
       "      <td>3485</td>\n",
       "      <td>Albury Wodonga Health</td>\n",
       "      <td>YES</td>\n",
       "      <td>69 Vermont Street</td>\n",
       "      <td>Wodonga</td>\n",
       "      <td>3690</td>\n",
       "      <td>PUBLIC</td>\n",
       "      <td>Public Hospital</td>\n",
       "    </tr>\n",
       "    <tr>\n",
       "      <th>2</th>\n",
       "      <td>12990</td>\n",
       "      <td>Albury Wodonga Health, Albury Campus</td>\n",
       "      <td>YES</td>\n",
       "      <td>Borella</td>\n",
       "      <td>Albury</td>\n",
       "      <td>2640</td>\n",
       "      <td>PUBLIC</td>\n",
       "      <td>Public Hospital</td>\n",
       "    </tr>\n",
       "    <tr>\n",
       "      <th>6</th>\n",
       "      <td>3483</td>\n",
       "      <td>Angliss Hospital</td>\n",
       "      <td>YES</td>\n",
       "      <td>Albert Street</td>\n",
       "      <td>Upper Ferntree Gully</td>\n",
       "      <td>3156</td>\n",
       "      <td>PUBLIC</td>\n",
       "      <td>Public Hospital</td>\n",
       "    </tr>\n",
       "    <tr>\n",
       "      <th>9</th>\n",
       "      <td>11733</td>\n",
       "      <td>Austin Health - Austin Hospital</td>\n",
       "      <td>YES</td>\n",
       "      <td>145 Studley Road</td>\n",
       "      <td>Heidelberg</td>\n",
       "      <td>3084</td>\n",
       "      <td>PUBLIC</td>\n",
       "      <td>Public Hospital</td>\n",
       "    </tr>\n",
       "    <tr>\n",
       "      <th>11</th>\n",
       "      <td>6272</td>\n",
       "      <td>Bairnsdale Regional Health Service</td>\n",
       "      <td>YES</td>\n",
       "      <td>122 Day St</td>\n",
       "      <td>Bairnsdale</td>\n",
       "      <td>3875</td>\n",
       "      <td>PUBLIC</td>\n",
       "      <td>Public Hospital</td>\n",
       "    </tr>\n",
       "  </tbody>\n",
       "</table>\n",
       "</div>"
      ],
      "text/plain": [
       "    Hospital ID                         Hospital Name Emergency Capable  \\\n",
       "1          3485                 Albury Wodonga Health               YES   \n",
       "2         12990  Albury Wodonga Health, Albury Campus               YES   \n",
       "6          3483                      Angliss Hospital               YES   \n",
       "9         11733       Austin Health - Austin Hospital               YES   \n",
       "11         6272    Bairnsdale Regional Health Service               YES   \n",
       "\n",
       "     Location Address                Suburb  Postcode Category  \\\n",
       "1   69 Vermont Street               Wodonga      3690   PUBLIC   \n",
       "2             Borella                Albury      2640   PUBLIC   \n",
       "6       Albert Street  Upper Ferntree Gully      3156   PUBLIC   \n",
       "9    145 Studley Road            Heidelberg      3084   PUBLIC   \n",
       "11         122 Day St            Bairnsdale      3875   PUBLIC   \n",
       "\n",
       "        Agency Type  \n",
       "1   Public Hospital  \n",
       "2   Public Hospital  \n",
       "6   Public Hospital  \n",
       "9   Public Hospital  \n",
       "11  Public Hospital  "
      ]
     },
     "execution_count": 45,
     "metadata": {},
     "output_type": "execute_result"
    }
   ],
   "source": [
    "emergency_hospital_df.head()"
   ]
  },
  {
   "cell_type": "code",
   "execution_count": 47,
   "id": "dec4a398",
   "metadata": {},
   "outputs": [
    {
     "data": {
      "text/plain": [
       "(39, 8)"
      ]
     },
     "execution_count": 47,
     "metadata": {},
     "output_type": "execute_result"
    }
   ],
   "source": [
    "emergency_hospital_df.shape"
   ]
  },
  {
   "cell_type": "markdown",
   "id": "39922fb2",
   "metadata": {},
   "source": [
    "39 hospitals have emergency capabilities which is required for our problem statement."
   ]
  },
  {
   "cell_type": "code",
   "execution_count": 48,
   "id": "5e0bfd52",
   "metadata": {},
   "outputs": [
    {
     "data": {
      "image/png": "[encoded data removed]",
      "text/plain": [
       "<Figure size 432x288 with 1 Axes>"
      ]
     },
     "metadata": {
      "needs_background": "light"
     },
     "output_type": "display_data"
    }
   ],
   "source": [
    "boxplot = emergency_hospital_df.boxplot(column=['Postcode'])"
   ]
  },
  {
   "cell_type": "code",
   "execution_count": 49,
   "id": "18627afe",
   "metadata": {},
   "outputs": [
    {
     "data": {
      "text/plain": [
       "269"
      ]
     },
     "execution_count": 49,
     "metadata": {},
     "output_type": "execute_result"
    }
   ],
   "source": [
    "len(pd.unique(hospital_df['Hospital ID']))"
   ]
  },
  {
   "cell_type": "code",
   "execution_count": 50,
   "id": "b1500c50",
   "metadata": {},
   "outputs": [
    {
     "data": {
      "text/plain": [
       "169"
      ]
     },
     "execution_count": 50,
     "metadata": {},
     "output_type": "execute_result"
    }
   ],
   "source": [
    "len(pd.unique(hospital_df['Postcode']))"
   ]
  },
  {
   "cell_type": "code",
   "execution_count": 52,
   "id": "1aee550d",
   "metadata": {},
   "outputs": [],
   "source": [
    "import folium"
   ]
  },
  {
   "cell_type": "code",
   "execution_count": 53,
   "id": "cae2d5e7",
   "metadata": {},
   "outputs": [],
   "source": [
    "map = folium.Map(location=[40.693943, -73.985880], default_zoom_start=15)"
   ]
  },
  {
   "cell_type": "code",
   "execution_count": 1,
   "id": "45e83058",
   "metadata": {},
   "outputs": [
    {
     "data": {
      "text/plain": [
       "map"
      ]
     },
     "execution_count": 1,
     "metadata": {},
     "output_type": "execute_result"
    }
   ],
   "source": [
    "map"
   ]
  },
  {
   "cell_type": "code",
   "execution_count": 2,
   "id": "2f13a188",
   "metadata": {},
   "outputs": [
    {
     "data": {
      "text/plain": [
       "map"
      ]
     },
     "execution_count": 2,
     "metadata": {},
     "output_type": "execute_result"
    }
   ],
   "source": [
    "map"
   ]
  },
  {
   "cell_type": "code",
   "execution_count": 59,
   "id": "ba008077",
   "metadata": {},
   "outputs": [],
   "source": [
    "map = folium.Map(location=[\t-37.020100, 144.964600], default_zoom_start=15)"
   ]
  },
  {
   "cell_type": "code",
   "execution_count": 61,
   "id": "4b34af76",
   "metadata": {},
   "outputs": [
    {
     "data": {
      "text/html": [
       "<div style=\"width:100%;\"><div style=\"position:relative;width:100%;height:0;padding-bottom:60%;\"><span style=\"color:#565656\">Make this Notebook Trusted to load map: File -> Trust Notebook</span><iframe src=\"about:blank\" style=\"position:absolute;width:100%;height:100%;left:0;top:0;border:none !important;\" data-html=%3C%21DOCTYPE%20html%3E%0A%3Chead%3E%20%20%20%20%0A%20%20%20%20%3Cmeta%20http-equiv%3D%22content-type%22%20content%3D%22text/html%3B%20charset%3DUTF-8%22%20/%3E%0A%20%20%20%20%0A%20%20%20%20%20%20%20%20%3Cscript%3E%0A%20%20%20%20%20%20%20%20%20%20%20%20L_NO_TOUCH%20%3D%20false%3B%0A%20%20%20%20%20%20%20%20%20%20%20%20L_DISABLE_3D%20%3D%20false%3B%0A%20%20%20%20%20%20%20%20%3C/script%3E%0A%20%20%20%20%0A%20%20%20%20%3Cstyle%3Ehtml%2C%20body%20%7Bwidth%3A%20100%25%3Bheight%3A%20100%25%3Bmargin%3A%200%3Bpadding%3A%200%3B%7D%3C/style%3E%0A%20%20%20%20%3Cstyle%3E%23map%20%7Bposition%3Aabsolute%3Btop%3A0%3Bbottom%3A0%3Bright%3A0%3Bleft%3A0%3B%7D%3C/style%3E%0A%20%20%20%20%3Cscript%20src%3D%22https%3A//cdn.jsdelivr.net/npm/leaflet%401.6.0/dist/leaflet.js%22%3E%3C/script%3E%0A%20%20%20%20%3Cscript%20src%3D%22https%3A//code.jquery.com/jquery-1.12.4.min.js%22%3E%3C/script%3E%0A%20%20%20%20%3Cscript%20src%3D%22https%3A//maxcdn.bootstrapcdn.com/bootstrap/3.2.0/js/bootstrap.min.js%22%3E%3C/script%3E%0A%20%20%20%20%3Cscript%20src%3D%22https%3A//cdnjs.cloudflare.com/ajax/libs/Leaflet.awesome-markers/2.0.2/leaflet.awesome-markers.js%22%3E%3C/script%3E%0A%20%20%20%20%3Clink%20rel%3D%22stylesheet%22%20href%3D%22https%3A//cdn.jsdelivr.net/npm/leaflet%401.6.0/dist/leaflet.css%22/%3E%0A%20%20%20%20%3Clink%20rel%3D%22stylesheet%22%20href%3D%22https%3A//maxcdn.bootstrapcdn.com/bootstrap/3.2.0/css/bootstrap.min.css%22/%3E%0A%20%20%20%20%3Clink%20rel%3D%22stylesheet%22%20href%3D%22https%3A//maxcdn.bootstrapcdn.com/bootstrap/3.2.0/css/bootstrap-theme.min.css%22/%3E%0A%20%20%20%20%3Clink%20rel%3D%22stylesheet%22%20href%3D%22https%3A//maxcdn.bootstrapcdn.com/font-awesome/4.6.3/css/font-awesome.min.css%22/%3E%0A%20%20%20%20%3Clink%20rel%3D%22stylesheet%22%20href%3D%22https%3A//cdnjs.cloudflare.com/ajax/libs/Leaflet.awesome-markers/2.0.2/leaflet.awesome-markers.css%22/%3E%0A%20%20%20%20%3Clink%20rel%3D%22stylesheet%22%20href%3D%22https%3A//cdn.jsdelivr.net/gh/python-visualization/folium/folium/templates/leaflet.awesome.rotate.min.css%22/%3E%0A%20%20%20%20%0A%20%20%20%20%20%20%20%20%20%20%20%20%3Cmeta%20name%3D%22viewport%22%20content%3D%22width%3Ddevice-width%2C%0A%20%20%20%20%20%20%20%20%20%20%20%20%20%20%20%20initial-scale%3D1.0%2C%20maximum-scale%3D1.0%2C%20user-scalable%3Dno%22%20/%3E%0A%20%20%20%20%20%20%20%20%20%20%20%20%3Cstyle%3E%0A%20%20%20%20%20%20%20%20%20%20%20%20%20%20%20%20%23map_f9c6c77470ae4a7ebdd3d636973716d8%20%7B%0A%20%20%20%20%20%20%20%20%20%20%20%20%20%20%20%20%20%20%20%20position%3A%20relative%3B%0A%20%20%20%20%20%20%20%20%20%20%20%20%20%20%20%20%20%20%20%20width%3A%20100.0%25%3B%0A%20%20%20%20%20%20%20%20%20%20%20%20%20%20%20%20%20%20%20%20height%3A%20100.0%25%3B%0A%20%20%20%20%20%20%20%20%20%20%20%20%20%20%20%20%20%20%20%20left%3A%200.0%25%3B%0A%20%20%20%20%20%20%20%20%20%20%20%20%20%20%20%20%20%20%20%20top%3A%200.0%25%3B%0A%20%20%20%20%20%20%20%20%20%20%20%20%20%20%20%20%7D%0A%20%20%20%20%20%20%20%20%20%20%20%20%3C/style%3E%0A%20%20%20%20%20%20%20%20%0A%3C/head%3E%0A%3Cbody%3E%20%20%20%20%0A%20%20%20%20%0A%20%20%20%20%20%20%20%20%20%20%20%20%3Cdiv%20class%3D%22folium-map%22%20id%3D%22map_f9c6c77470ae4a7ebdd3d636973716d8%22%20%3E%3C/div%3E%0A%20%20%20%20%20%20%20%20%0A%3C/body%3E%0A%3Cscript%3E%20%20%20%20%0A%20%20%20%20%0A%20%20%20%20%20%20%20%20%20%20%20%20var%20map_f9c6c77470ae4a7ebdd3d636973716d8%20%3D%20L.map%28%0A%20%20%20%20%20%20%20%20%20%20%20%20%20%20%20%20%22map_f9c6c77470ae4a7ebdd3d636973716d8%22%2C%0A%20%20%20%20%20%20%20%20%20%20%20%20%20%20%20%20%7B%0A%20%20%20%20%20%20%20%20%20%20%20%20%20%20%20%20%20%20%20%20center%3A%20%5B-37.0201%2C%20144.9646%5D%2C%0A%20%20%20%20%20%20%20%20%20%20%20%20%20%20%20%20%20%20%20%20crs%3A%20L.CRS.EPSG3857%2C%0A%20%20%20%20%20%20%20%20%20%20%20%20%20%20%20%20%20%20%20%20zoom%3A%2010%2C%0A%20%20%20%20%20%20%20%20%20%20%20%20%20%20%20%20%20%20%20%20zoomControl%3A%20true%2C%0A%20%20%20%20%20%20%20%20%20%20%20%20%20%20%20%20%20%20%20%20preferCanvas%3A%20false%2C%0A%20%20%20%20%20%20%20%20%20%20%20%20%20%20%20%20%20%20%20%20defaultZoomStart%3A%2015%2C%0A%20%20%20%20%20%20%20%20%20%20%20%20%20%20%20%20%7D%0A%20%20%20%20%20%20%20%20%20%20%20%20%29%3B%0A%0A%20%20%20%20%20%20%20%20%20%20%20%20%0A%0A%20%20%20%20%20%20%20%20%0A%20%20%20%20%0A%20%20%20%20%20%20%20%20%20%20%20%20var%20tile_layer_cc14f6035b2949729a5b776984adb468%20%3D%20L.tileLayer%28%0A%20%20%20%20%20%20%20%20%20%20%20%20%20%20%20%20%22https%3A//%7Bs%7D.tile.openstreetmap.org/%7Bz%7D/%7Bx%7D/%7By%7D.png%22%2C%0A%20%20%20%20%20%20%20%20%20%20%20%20%20%20%20%20%7B%22attribution%22%3A%20%22Data%20by%20%5Cu0026copy%3B%20%5Cu003ca%20href%3D%5C%22http%3A//openstreetmap.org%5C%22%5Cu003eOpenStreetMap%5Cu003c/a%5Cu003e%2C%20under%20%5Cu003ca%20href%3D%5C%22http%3A//www.openstreetmap.org/copyright%5C%22%5Cu003eODbL%5Cu003c/a%5Cu003e.%22%2C%20%22detectRetina%22%3A%20false%2C%20%22maxNativeZoom%22%3A%2018%2C%20%22maxZoom%22%3A%2018%2C%20%22minZoom%22%3A%200%2C%20%22noWrap%22%3A%20false%2C%20%22opacity%22%3A%201%2C%20%22subdomains%22%3A%20%22abc%22%2C%20%22tms%22%3A%20false%7D%0A%20%20%20%20%20%20%20%20%20%20%20%20%29.addTo%28map_f9c6c77470ae4a7ebdd3d636973716d8%29%3B%0A%20%20%20%20%20%20%20%20%0A%3C/script%3E onload=\"this.contentDocument.open();this.contentDocument.write(    decodeURIComponent(this.getAttribute('data-html')));this.contentDocument.close();\" allowfullscreen webkitallowfullscreen mozallowfullscreen></iframe></div></div>"
      ],
      "text/plain": [
       "<folium.folium.Map at 0x1e63ab018c8>"
      ]
     },
     "execution_count": 61,
     "metadata": {},
     "output_type": "execute_result"
    }
   ],
   "source": [
    "map"
   ]
  },
  {
   "cell_type": "code",
   "execution_count": 62,
   "id": "27f8d3bf",
   "metadata": {},
   "outputs": [
    {
     "data": {
      "text/plain": [
       "<folium.map.Marker at 0x1e63ab42648>"
      ]
     },
     "execution_count": 62,
     "metadata": {},
     "output_type": "execute_result"
    }
   ],
   "source": [
    "folium.Marker(\n",
    "    location=[40.693943, -73.985880],\n",
    "    popup='Welcome to <b>NEW YORK CITY</b>',\n",
    "    tooltip = \"Click for more\"\n",
    ").add_to(map)"
   ]
  },
  {
   "cell_type": "code",
   "execution_count": 63,
   "id": "bd044cc7",
   "metadata": {},
   "outputs": [
    {
     "data": {
      "text/html": [
       "<div style=\"width:100%;\"><div style=\"position:relative;width:100%;height:0;padding-bottom:60%;\"><span style=\"color:#565656\">Make this Notebook Trusted to load map: File -> Trust Notebook</span><iframe src=\"about:blank\" style=\"position:absolute;width:100%;height:100%;left:0;top:0;border:none !important;\" data-html=%3C%21DOCTYPE%20html%3E%0A%3Chead%3E%20%20%20%20%0A%20%20%20%20%3Cmeta%20http-equiv%3D%22content-type%22%20content%3D%22text/html%3B%20charset%3DUTF-8%22%20/%3E%0A%20%20%20%20%0A%20%20%20%20%20%20%20%20%3Cscript%3E%0A%20%20%20%20%20%20%20%20%20%20%20%20L_NO_TOUCH%20%3D%20false%3B%0A%20%20%20%20%20%20%20%20%20%20%20%20L_DISABLE_3D%20%3D%20false%3B%0A%20%20%20%20%20%20%20%20%3C/script%3E%0A%20%20%20%20%0A%20%20%20%20%3Cstyle%3Ehtml%2C%20body%20%7Bwidth%3A%20100%25%3Bheight%3A%20100%25%3Bmargin%3A%200%3Bpadding%3A%200%3B%7D%3C/style%3E%0A%20%20%20%20%3Cstyle%3E%23map%20%7Bposition%3Aabsolute%3Btop%3A0%3Bbottom%3A0%3Bright%3A0%3Bleft%3A0%3B%7D%3C/style%3E%0A%20%20%20%20%3Cscript%20src%3D%22https%3A//cdn.jsdelivr.net/npm/leaflet%401.6.0/dist/leaflet.js%22%3E%3C/script%3E%0A%20%20%20%20%3Cscript%20src%3D%22https%3A//code.jquery.com/jquery-1.12.4.min.js%22%3E%3C/script%3E%0A%20%20%20%20%3Cscript%20src%3D%22https%3A//maxcdn.bootstrapcdn.com/bootstrap/3.2.0/js/bootstrap.min.js%22%3E%3C/script%3E%0A%20%20%20%20%3Cscript%20src%3D%22https%3A//cdnjs.cloudflare.com/ajax/libs/Leaflet.awesome-markers/2.0.2/leaflet.awesome-markers.js%22%3E%3C/script%3E%0A%20%20%20%20%3Clink%20rel%3D%22stylesheet%22%20href%3D%22https%3A//cdn.jsdelivr.net/npm/leaflet%401.6.0/dist/leaflet.css%22/%3E%0A%20%20%20%20%3Clink%20rel%3D%22stylesheet%22%20href%3D%22https%3A//maxcdn.bootstrapcdn.com/bootstrap/3.2.0/css/bootstrap.min.css%22/%3E%0A%20%20%20%20%3Clink%20rel%3D%22stylesheet%22%20href%3D%22https%3A//maxcdn.bootstrapcdn.com/bootstrap/3.2.0/css/bootstrap-theme.min.css%22/%3E%0A%20%20%20%20%3Clink%20rel%3D%22stylesheet%22%20href%3D%22https%3A//maxcdn.bootstrapcdn.com/font-awesome/4.6.3/css/font-awesome.min.css%22/%3E%0A%20%20%20%20%3Clink%20rel%3D%22stylesheet%22%20href%3D%22https%3A//cdnjs.cloudflare.com/ajax/libs/Leaflet.awesome-markers/2.0.2/leaflet.awesome-markers.css%22/%3E%0A%20%20%20%20%3Clink%20rel%3D%22stylesheet%22%20href%3D%22https%3A//cdn.jsdelivr.net/gh/python-visualization/folium/folium/templates/leaflet.awesome.rotate.min.css%22/%3E%0A%20%20%20%20%0A%20%20%20%20%20%20%20%20%20%20%20%20%3Cmeta%20name%3D%22viewport%22%20content%3D%22width%3Ddevice-width%2C%0A%20%20%20%20%20%20%20%20%20%20%20%20%20%20%20%20initial-scale%3D1.0%2C%20maximum-scale%3D1.0%2C%20user-scalable%3Dno%22%20/%3E%0A%20%20%20%20%20%20%20%20%20%20%20%20%3Cstyle%3E%0A%20%20%20%20%20%20%20%20%20%20%20%20%20%20%20%20%23map_f9c6c77470ae4a7ebdd3d636973716d8%20%7B%0A%20%20%20%20%20%20%20%20%20%20%20%20%20%20%20%20%20%20%20%20position%3A%20relative%3B%0A%20%20%20%20%20%20%20%20%20%20%20%20%20%20%20%20%20%20%20%20width%3A%20100.0%25%3B%0A%20%20%20%20%20%20%20%20%20%20%20%20%20%20%20%20%20%20%20%20height%3A%20100.0%25%3B%0A%20%20%20%20%20%20%20%20%20%20%20%20%20%20%20%20%20%20%20%20left%3A%200.0%25%3B%0A%20%20%20%20%20%20%20%20%20%20%20%20%20%20%20%20%20%20%20%20top%3A%200.0%25%3B%0A%20%20%20%20%20%20%20%20%20%20%20%20%20%20%20%20%7D%0A%20%20%20%20%20%20%20%20%20%20%20%20%3C/style%3E%0A%20%20%20%20%20%20%20%20%0A%3C/head%3E%0A%3Cbody%3E%20%20%20%20%0A%20%20%20%20%0A%20%20%20%20%20%20%20%20%20%20%20%20%3Cdiv%20class%3D%22folium-map%22%20id%3D%22map_f9c6c77470ae4a7ebdd3d636973716d8%22%20%3E%3C/div%3E%0A%20%20%20%20%20%20%20%20%0A%3C/body%3E%0A%3Cscript%3E%20%20%20%20%0A%20%20%20%20%0A%20%20%20%20%20%20%20%20%20%20%20%20var%20map_f9c6c77470ae4a7ebdd3d636973716d8%20%3D%20L.map%28%0A%20%20%20%20%20%20%20%20%20%20%20%20%20%20%20%20%22map_f9c6c77470ae4a7ebdd3d636973716d8%22%2C%0A%20%20%20%20%20%20%20%20%20%20%20%20%20%20%20%20%7B%0A%20%20%20%20%20%20%20%20%20%20%20%20%20%20%20%20%20%20%20%20center%3A%20%5B-37.0201%2C%20144.9646%5D%2C%0A%20%20%20%20%20%20%20%20%20%20%20%20%20%20%20%20%20%20%20%20crs%3A%20L.CRS.EPSG3857%2C%0A%20%20%20%20%20%20%20%20%20%20%20%20%20%20%20%20%20%20%20%20zoom%3A%2010%2C%0A%20%20%20%20%20%20%20%20%20%20%20%20%20%20%20%20%20%20%20%20zoomControl%3A%20true%2C%0A%20%20%20%20%20%20%20%20%20%20%20%20%20%20%20%20%20%20%20%20preferCanvas%3A%20false%2C%0A%20%20%20%20%20%20%20%20%20%20%20%20%20%20%20%20%20%20%20%20defaultZoomStart%3A%2015%2C%0A%20%20%20%20%20%20%20%20%20%20%20%20%20%20%20%20%7D%0A%20%20%20%20%20%20%20%20%20%20%20%20%29%3B%0A%0A%20%20%20%20%20%20%20%20%20%20%20%20%0A%0A%20%20%20%20%20%20%20%20%0A%20%20%20%20%0A%20%20%20%20%20%20%20%20%20%20%20%20var%20tile_layer_cc14f6035b2949729a5b776984adb468%20%3D%20L.tileLayer%28%0A%20%20%20%20%20%20%20%20%20%20%20%20%20%20%20%20%22https%3A//%7Bs%7D.tile.openstreetmap.org/%7Bz%7D/%7Bx%7D/%7By%7D.png%22%2C%0A%20%20%20%20%20%20%20%20%20%20%20%20%20%20%20%20%7B%22attribution%22%3A%20%22Data%20by%20%5Cu0026copy%3B%20%5Cu003ca%20href%3D%5C%22http%3A//openstreetmap.org%5C%22%5Cu003eOpenStreetMap%5Cu003c/a%5Cu003e%2C%20under%20%5Cu003ca%20href%3D%5C%22http%3A//www.openstreetmap.org/copyright%5C%22%5Cu003eODbL%5Cu003c/a%5Cu003e.%22%2C%20%22detectRetina%22%3A%20false%2C%20%22maxNativeZoom%22%3A%2018%2C%20%22maxZoom%22%3A%2018%2C%20%22minZoom%22%3A%200%2C%20%22noWrap%22%3A%20false%2C%20%22opacity%22%3A%201%2C%20%22subdomains%22%3A%20%22abc%22%2C%20%22tms%22%3A%20false%7D%0A%20%20%20%20%20%20%20%20%20%20%20%20%29.addTo%28map_f9c6c77470ae4a7ebdd3d636973716d8%29%3B%0A%20%20%20%20%20%20%20%20%0A%20%20%20%20%0A%20%20%20%20%20%20%20%20%20%20%20%20var%20marker_856e79a57bb6495ab6ed6a78b996452f%20%3D%20L.marker%28%0A%20%20%20%20%20%20%20%20%20%20%20%20%20%20%20%20%5B40.693943%2C%20-73.98588%5D%2C%0A%20%20%20%20%20%20%20%20%20%20%20%20%20%20%20%20%7B%7D%0A%20%20%20%20%20%20%20%20%20%20%20%20%29.addTo%28map_f9c6c77470ae4a7ebdd3d636973716d8%29%3B%0A%20%20%20%20%20%20%20%20%0A%20%20%20%20%0A%20%20%20%20%20%20%20%20var%20popup_d0b9dbcae94d414bab9248c897c948a6%20%3D%20L.popup%28%7B%22maxWidth%22%3A%20%22100%25%22%7D%29%3B%0A%0A%20%20%20%20%20%20%20%20%0A%20%20%20%20%20%20%20%20%20%20%20%20var%20html_c0dc4ce32f5a49a99527abc38ba43600%20%3D%20%24%28%60%3Cdiv%20id%3D%22html_c0dc4ce32f5a49a99527abc38ba43600%22%20style%3D%22width%3A%20100.0%25%3B%20height%3A%20100.0%25%3B%22%3EWelcome%20to%20%3Cb%3ENEW%20YORK%20CITY%3C/b%3E%3C/div%3E%60%29%5B0%5D%3B%0A%20%20%20%20%20%20%20%20%20%20%20%20popup_d0b9dbcae94d414bab9248c897c948a6.setContent%28html_c0dc4ce32f5a49a99527abc38ba43600%29%3B%0A%20%20%20%20%20%20%20%20%0A%0A%20%20%20%20%20%20%20%20marker_856e79a57bb6495ab6ed6a78b996452f.bindPopup%28popup_d0b9dbcae94d414bab9248c897c948a6%29%0A%20%20%20%20%20%20%20%20%3B%0A%0A%20%20%20%20%20%20%20%20%0A%20%20%20%20%0A%20%20%20%20%0A%20%20%20%20%20%20%20%20%20%20%20%20marker_856e79a57bb6495ab6ed6a78b996452f.bindTooltip%28%0A%20%20%20%20%20%20%20%20%20%20%20%20%20%20%20%20%60%3Cdiv%3E%0A%20%20%20%20%20%20%20%20%20%20%20%20%20%20%20%20%20%20%20%20%20Click%20for%20more%0A%20%20%20%20%20%20%20%20%20%20%20%20%20%20%20%20%20%3C/div%3E%60%2C%0A%20%20%20%20%20%20%20%20%20%20%20%20%20%20%20%20%7B%22sticky%22%3A%20true%7D%0A%20%20%20%20%20%20%20%20%20%20%20%20%29%3B%0A%20%20%20%20%20%20%20%20%0A%3C/script%3E onload=\"this.contentDocument.open();this.contentDocument.write(    decodeURIComponent(this.getAttribute('data-html')));this.contentDocument.close();\" allowfullscreen webkitallowfullscreen mozallowfullscreen></iframe></div></div>"
      ],
      "text/plain": [
       "<folium.folium.Map at 0x1e63ab018c8>"
      ]
     },
     "execution_count": 63,
     "metadata": {},
     "output_type": "execute_result"
    }
   ],
   "source": [
    "map"
   ]
  },
  {
   "cell_type": "code",
   "execution_count": null,
   "id": "c785eb6e",
   "metadata": {},
   "outputs": [],
   "source": []
  },
  {
   "cell_type": "code",
   "execution_count": 65,
   "id": "5b5fbcdf",
   "metadata": {},
   "outputs": [],
   "source": [
    "from geopy.geocoders import Nominatim\n",
    "geocoder = Nominatim(user_agent = 'your_app_name')"
   ]
  },
  {
   "cell_type": "code",
   "execution_count": 69,
   "id": "607f28f7",
   "metadata": {},
   "outputs": [],
   "source": [
    "from geopy.extra.rate_limiter import RateLimiter\n",
    "geocode = RateLimiter(geocoder.geocode, min_delay_seconds = 1,   return_value_on_exception = None) \n",
    "# adding 1 second padding between calls"
   ]
  },
  {
   "cell_type": "markdown",
   "id": "758ec36b",
   "metadata": {},
   "source": [
    "## Recipe Data\n"
   ]
  },
  {
   "cell_type": "code",
   "execution_count": 7,
   "id": "87d20b2d",
   "metadata": {},
   "outputs": [],
   "source": [
    "recipe_df=pd.read_csv(\"recipe file.csv\")"
   ]
  },
  {
   "cell_type": "code",
   "execution_count": 8,
   "id": "99c83495",
   "metadata": {},
   "outputs": [
    {
     "data": {
      "text/html": [
       "<div>\n",
       "<style scoped>\n",
       "    .dataframe tbody tr th:only-of-type {\n",
       "        vertical-align: middle;\n",
       "    }\n",
       "\n",
       "    .dataframe tbody tr th {\n",
       "        vertical-align: top;\n",
       "    }\n",
       "\n",
       "    .dataframe thead th {\n",
       "        text-align: right;\n",
       "    }\n",
       "</style>\n",
       "<table border=\"1\" class=\"dataframe\">\n",
       "  <thead>\n",
       "    <tr style=\"text-align: right;\">\n",
       "      <th></th>\n",
       "      <th>Public Food Key</th>\n",
       "      <th>Food Name</th>\n",
       "      <th>Total Weight Change (%)</th>\n",
       "      <th>IngredientPublic Food Key</th>\n",
       "      <th>Ingredient Name</th>\n",
       "      <th>Ingredient Weight (g)</th>\n",
       "      <th>Retention Factor ID</th>\n",
       "    </tr>\n",
       "  </thead>\n",
       "  <tbody>\n",
       "    <tr>\n",
       "      <th>0</th>\n",
       "      <td>F000247</td>\n",
       "      <td>Baking powder, dry powder</td>\n",
       "      <td>0.0</td>\n",
       "      <td>F003250</td>\n",
       "      <td>Cream of tartar, dry powder</td>\n",
       "      <td>50.0</td>\n",
       "      <td>0</td>\n",
       "    </tr>\n",
       "    <tr>\n",
       "      <th>1</th>\n",
       "      <td>F000247</td>\n",
       "      <td>Baking powder, dry powder</td>\n",
       "      <td>0.0</td>\n",
       "      <td>F000248</td>\n",
       "      <td>Baking soda (bicarbonate), dry powder</td>\n",
       "      <td>25.0</td>\n",
       "      <td>0</td>\n",
       "    </tr>\n",
       "    <tr>\n",
       "      <th>2</th>\n",
       "      <td>F000247</td>\n",
       "      <td>Baking powder, dry powder</td>\n",
       "      <td>0.0</td>\n",
       "      <td>F003989</td>\n",
       "      <td>Flour, cornflour, from maize &amp; wheat starch</td>\n",
       "      <td>15.0</td>\n",
       "      <td>0</td>\n",
       "    </tr>\n",
       "    <tr>\n",
       "      <th>3</th>\n",
       "      <td>F000247</td>\n",
       "      <td>Baking powder, dry powder</td>\n",
       "      <td>0.0</td>\n",
       "      <td>F003998</td>\n",
       "      <td>Flour, rice</td>\n",
       "      <td>10.0</td>\n",
       "      <td>0</td>\n",
       "    </tr>\n",
       "    <tr>\n",
       "      <th>4</th>\n",
       "      <td>F009571</td>\n",
       "      <td>Wine, red</td>\n",
       "      <td>0.0</td>\n",
       "      <td>F009577</td>\n",
       "      <td>Wine, red, shiraz</td>\n",
       "      <td>50.0</td>\n",
       "      <td>0</td>\n",
       "    </tr>\n",
       "  </tbody>\n",
       "</table>\n",
       "</div>"
      ],
      "text/plain": [
       "  Public Food Key                  Food Name  Total Weight Change (%)  \\\n",
       "0         F000247  Baking powder, dry powder                      0.0   \n",
       "1         F000247  Baking powder, dry powder                      0.0   \n",
       "2         F000247  Baking powder, dry powder                      0.0   \n",
       "3         F000247  Baking powder, dry powder                      0.0   \n",
       "4         F009571                  Wine, red                      0.0   \n",
       "\n",
       "  IngredientPublic Food Key                              Ingredient Name  \\\n",
       "0                   F003250                  Cream of tartar, dry powder   \n",
       "1                   F000248        Baking soda (bicarbonate), dry powder   \n",
       "2                   F003989  Flour, cornflour, from maize & wheat starch   \n",
       "3                   F003998                                  Flour, rice   \n",
       "4                   F009577                            Wine, red, shiraz   \n",
       "\n",
       "   Ingredient Weight (g)  Retention Factor ID  \n",
       "0                   50.0                    0  \n",
       "1                   25.0                    0  \n",
       "2                   15.0                    0  \n",
       "3                   10.0                    0  \n",
       "4                   50.0                    0  "
      ]
     },
     "execution_count": 8,
     "metadata": {},
     "output_type": "execute_result"
    }
   ],
   "source": [
    "recipe_df.head()"
   ]
  },
  {
   "cell_type": "code",
   "execution_count": 38,
   "id": "677c8248",
   "metadata": {},
   "outputs": [
    {
     "data": {
      "text/plain": [
       "(1027, 7)"
      ]
     },
     "execution_count": 38,
     "metadata": {},
     "output_type": "execute_result"
    }
   ],
   "source": [
    "recipe_df.shape\n"
   ]
  },
  {
   "cell_type": "code",
   "execution_count": 9,
   "id": "f9196e7c",
   "metadata": {},
   "outputs": [
    {
     "name": "stdout",
     "output_type": "stream",
     "text": [
      "<class 'pandas.core.frame.DataFrame'>\n",
      "RangeIndex: 1027 entries, 0 to 1026\n",
      "Data columns (total 7 columns):\n",
      " #   Column                     Non-Null Count  Dtype  \n",
      "---  ------                     --------------  -----  \n",
      " 0   Public Food Key            1027 non-null   object \n",
      " 1   Food Name                  1027 non-null   object \n",
      " 2   Total Weight Change (%)    1027 non-null   float64\n",
      " 3   IngredientPublic Food Key  1027 non-null   object \n",
      " 4   Ingredient Name            1027 non-null   object \n",
      " 5   Ingredient Weight (g)      1027 non-null   float64\n",
      " 6   Retention Factor ID        1027 non-null   int64  \n",
      "dtypes: float64(2), int64(1), object(4)\n",
      "memory usage: 56.3+ KB\n"
     ]
    }
   ],
   "source": [
    "recipe_df.info()"
   ]
  },
  {
   "cell_type": "code",
   "execution_count": 15,
   "id": "43ae4e31",
   "metadata": {},
   "outputs": [],
   "source": [
    "nutrient_df=pd.read_csv(\"Nutrition_Database - Nutrition_Database.csv\")"
   ]
  },
  {
   "cell_type": "code",
   "execution_count": 16,
   "id": "5f444cf4",
   "metadata": {},
   "outputs": [
    {
     "data": {
      "text/plain": [
       "(1535, 17)"
      ]
     },
     "execution_count": 16,
     "metadata": {},
     "output_type": "execute_result"
    }
   ],
   "source": [
    "nutrient_df.shape"
   ]
  },
  {
   "cell_type": "code",
   "execution_count": 18,
   "id": "195070f0",
   "metadata": {},
   "outputs": [
    {
     "data": {
      "text/html": [
       "<div>\n",
       "<style scoped>\n",
       "    .dataframe tbody tr th:only-of-type {\n",
       "        vertical-align: middle;\n",
       "    }\n",
       "\n",
       "    .dataframe tbody tr th {\n",
       "        vertical-align: top;\n",
       "    }\n",
       "\n",
       "    .dataframe thead th {\n",
       "        text-align: right;\n",
       "    }\n",
       "</style>\n",
       "<table border=\"1\" class=\"dataframe\">\n",
       "  <thead>\n",
       "    <tr style=\"text-align: right;\">\n",
       "      <th></th>\n",
       "      <th>Public Food Key</th>\n",
       "      <th>Food Name</th>\n",
       "      <th>Energy, with dietary fibre</th>\n",
       "      <th>Energy, without dietary fibre</th>\n",
       "      <th>Moisture (water)</th>\n",
       "      <th>Protein</th>\n",
       "      <th>Total Fat</th>\n",
       "      <th>Total dietary fibre</th>\n",
       "      <th>Calcium (Ca)</th>\n",
       "      <th>Sodium (Na)</th>\n",
       "      <th>Cobalamin (B12)</th>\n",
       "      <th>Vitamin C</th>\n",
       "      <th>Cholecalciferol (D3)</th>\n",
       "      <th>Vitamin D3 equivalents</th>\n",
       "      <th>Vitamin E</th>\n",
       "      <th>Total saturated fatty acids</th>\n",
       "      <th>Unnamed: 16</th>\n",
       "    </tr>\n",
       "  </thead>\n",
       "  <tbody>\n",
       "    <tr>\n",
       "      <th>0</th>\n",
       "      <td>NaN</td>\n",
       "      <td>NaN</td>\n",
       "      <td>kJ</td>\n",
       "      <td>kJ</td>\n",
       "      <td>g</td>\n",
       "      <td>g</td>\n",
       "      <td>g</td>\n",
       "      <td>g</td>\n",
       "      <td>mg</td>\n",
       "      <td>mg</td>\n",
       "      <td>ug</td>\n",
       "      <td>mg</td>\n",
       "      <td>ug</td>\n",
       "      <td>ug</td>\n",
       "      <td>mg</td>\n",
       "      <td>%</td>\n",
       "      <td>g</td>\n",
       "    </tr>\n",
       "    <tr>\n",
       "      <th>1</th>\n",
       "      <td>F002258</td>\n",
       "      <td>Cardamom seed, dried, ground</td>\n",
       "      <td>1236</td>\n",
       "      <td>1012</td>\n",
       "      <td>8.3</td>\n",
       "      <td>10.8</td>\n",
       "      <td>6.7</td>\n",
       "      <td>28</td>\n",
       "      <td>383</td>\n",
       "      <td>18</td>\n",
       "      <td>0</td>\n",
       "      <td>21</td>\n",
       "      <td>0</td>\n",
       "      <td>0</td>\n",
       "      <td>2.85</td>\n",
       "      <td>34.34</td>\n",
       "      <td>2.2</td>\n",
       "    </tr>\n",
       "    <tr>\n",
       "      <th>2</th>\n",
       "      <td>F002893</td>\n",
       "      <td>Chilli (chili), dried, ground</td>\n",
       "      <td>1280</td>\n",
       "      <td>1002</td>\n",
       "      <td>10.8</td>\n",
       "      <td>13.4</td>\n",
       "      <td>14.3</td>\n",
       "      <td>34.8</td>\n",
       "      <td>330</td>\n",
       "      <td>2867</td>\n",
       "      <td>0</td>\n",
       "      <td>1</td>\n",
       "      <td>0</td>\n",
       "      <td>0</td>\n",
       "      <td>38.14</td>\n",
       "      <td>18</td>\n",
       "      <td>2.06</td>\n",
       "    </tr>\n",
       "    <tr>\n",
       "      <th>3</th>\n",
       "      <td>F002963</td>\n",
       "      <td>Cinnamon, dried, ground</td>\n",
       "      <td>1004</td>\n",
       "      <td>579</td>\n",
       "      <td>10.6</td>\n",
       "      <td>4</td>\n",
       "      <td>1.2</td>\n",
       "      <td>53.1</td>\n",
       "      <td>1002</td>\n",
       "      <td>10</td>\n",
       "      <td>0</td>\n",
       "      <td>4</td>\n",
       "      <td>0</td>\n",
       "      <td>0</td>\n",
       "      <td>2.32</td>\n",
       "      <td>52.35</td>\n",
       "      <td>0.62</td>\n",
       "    </tr>\n",
       "    <tr>\n",
       "      <th>4</th>\n",
       "      <td>F002970</td>\n",
       "      <td>Cloves, dried, ground</td>\n",
       "      <td>1389</td>\n",
       "      <td>1118</td>\n",
       "      <td>9.9</td>\n",
       "      <td>6</td>\n",
       "      <td>13</td>\n",
       "      <td>33.9</td>\n",
       "      <td>632</td>\n",
       "      <td>277</td>\n",
       "      <td>0</td>\n",
       "      <td>0</td>\n",
       "      <td>0</td>\n",
       "      <td>0</td>\n",
       "      <td>8.82</td>\n",
       "      <td>44.15</td>\n",
       "      <td>5.49</td>\n",
       "    </tr>\n",
       "    <tr>\n",
       "      <th>5</th>\n",
       "      <td>F003190</td>\n",
       "      <td>Coriander seed, dried, ground</td>\n",
       "      <td>1344</td>\n",
       "      <td>1009</td>\n",
       "      <td>8.9</td>\n",
       "      <td>12.4</td>\n",
       "      <td>17.8</td>\n",
       "      <td>41.9</td>\n",
       "      <td>709</td>\n",
       "      <td>35</td>\n",
       "      <td>0</td>\n",
       "      <td>21</td>\n",
       "      <td>0</td>\n",
       "      <td>0</td>\n",
       "      <td>0.91</td>\n",
       "      <td>6.07</td>\n",
       "      <td>1.03</td>\n",
       "    </tr>\n",
       "    <tr>\n",
       "      <th>6</th>\n",
       "      <td>F003327</td>\n",
       "      <td>Cumin (cummin) seed, dried, ground</td>\n",
       "      <td>1782</td>\n",
       "      <td>1698</td>\n",
       "      <td>8.1</td>\n",
       "      <td>17.8</td>\n",
       "      <td>22.3</td>\n",
       "      <td>10.5</td>\n",
       "      <td>931</td>\n",
       "      <td>168</td>\n",
       "      <td>0</td>\n",
       "      <td>8</td>\n",
       "      <td>0</td>\n",
       "      <td>0</td>\n",
       "      <td>3.33</td>\n",
       "      <td>8.14</td>\n",
       "      <td>1.73</td>\n",
       "    </tr>\n",
       "    <tr>\n",
       "      <th>7</th>\n",
       "      <td>F003337</td>\n",
       "      <td>Curry powder</td>\n",
       "      <td>1231</td>\n",
       "      <td>805</td>\n",
       "      <td>8.8</td>\n",
       "      <td>14.3</td>\n",
       "      <td>14</td>\n",
       "      <td>53.2</td>\n",
       "      <td>525</td>\n",
       "      <td>52</td>\n",
       "      <td>0</td>\n",
       "      <td>1</td>\n",
       "      <td>0</td>\n",
       "      <td>0</td>\n",
       "      <td>25.24</td>\n",
       "      <td>12.22</td>\n",
       "      <td>1.64</td>\n",
       "    </tr>\n",
       "    <tr>\n",
       "      <th>8</th>\n",
       "      <td>F003821</td>\n",
       "      <td>Fenugreek seed, dried</td>\n",
       "      <td>1080</td>\n",
       "      <td>699</td>\n",
       "      <td>8.8</td>\n",
       "      <td>23</td>\n",
       "      <td>6.4</td>\n",
       "      <td>47.6</td>\n",
       "      <td>176</td>\n",
       "      <td>67</td>\n",
       "      <td>0</td>\n",
       "      <td>3</td>\n",
       "      <td>0</td>\n",
       "      <td>0</td>\n",
       "      <td>0.02</td>\n",
       "      <td>16.84</td>\n",
       "      <td>1.03</td>\n",
       "    </tr>\n",
       "    <tr>\n",
       "      <th>9</th>\n",
       "      <td>F004210</td>\n",
       "      <td>Ginger, dried, ground</td>\n",
       "      <td>1397</td>\n",
       "      <td>1284</td>\n",
       "      <td>9.9</td>\n",
       "      <td>9</td>\n",
       "      <td>4.2</td>\n",
       "      <td>14.1</td>\n",
       "      <td>114</td>\n",
       "      <td>27</td>\n",
       "      <td>0</td>\n",
       "      <td>1</td>\n",
       "      <td>0</td>\n",
       "      <td>0</td>\n",
       "      <td>0</td>\n",
       "      <td>64.86</td>\n",
       "      <td>2.2</td>\n",
       "    </tr>\n",
       "  </tbody>\n",
       "</table>\n",
       "</div>"
      ],
      "text/plain": [
       "  Public Food Key                           Food Name  \\\n",
       "0             NaN                                 NaN   \n",
       "1         F002258        Cardamom seed, dried, ground   \n",
       "2         F002893       Chilli (chili), dried, ground   \n",
       "3         F002963             Cinnamon, dried, ground   \n",
       "4         F002970               Cloves, dried, ground   \n",
       "5         F003190       Coriander seed, dried, ground   \n",
       "6         F003327  Cumin (cummin) seed, dried, ground   \n",
       "7         F003337                        Curry powder   \n",
       "8         F003821               Fenugreek seed, dried   \n",
       "9         F004210               Ginger, dried, ground   \n",
       "\n",
       "  Energy, with dietary fibre Energy, without dietary fibre Moisture (water)  \\\n",
       "0                         kJ                            kJ                g   \n",
       "1                       1236                          1012              8.3   \n",
       "2                       1280                          1002             10.8   \n",
       "3                       1004                           579             10.6   \n",
       "4                       1389                          1118              9.9   \n",
       "5                       1344                          1009              8.9   \n",
       "6                       1782                          1698              8.1   \n",
       "7                       1231                           805              8.8   \n",
       "8                       1080                           699              8.8   \n",
       "9                       1397                          1284              9.9   \n",
       "\n",
       "  Protein Total Fat Total dietary fibre Calcium (Ca) Sodium (Na)  \\\n",
       "0       g         g                   g           mg          mg   \n",
       "1    10.8       6.7                  28          383          18   \n",
       "2    13.4      14.3                34.8          330        2867   \n",
       "3       4       1.2                53.1         1002          10   \n",
       "4       6        13                33.9          632         277   \n",
       "5    12.4      17.8                41.9          709          35   \n",
       "6    17.8      22.3                10.5          931         168   \n",
       "7    14.3        14                53.2          525          52   \n",
       "8      23       6.4                47.6          176          67   \n",
       "9       9       4.2                14.1          114          27   \n",
       "\n",
       "  Cobalamin (B12) Vitamin C Cholecalciferol (D3) Vitamin D3 equivalents  \\\n",
       "0              ug        mg                   ug                     ug   \n",
       "1               0        21                    0                      0   \n",
       "2               0         1                    0                      0   \n",
       "3               0         4                    0                      0   \n",
       "4               0         0                    0                      0   \n",
       "5               0        21                    0                      0   \n",
       "6               0         8                    0                      0   \n",
       "7               0         1                    0                      0   \n",
       "8               0         3                    0                      0   \n",
       "9               0         1                    0                      0   \n",
       "\n",
       "  Vitamin E Total saturated fatty acids Unnamed: 16  \n",
       "0        mg                           %           g  \n",
       "1      2.85                       34.34         2.2  \n",
       "2     38.14                          18        2.06  \n",
       "3      2.32                       52.35        0.62  \n",
       "4      8.82                       44.15        5.49  \n",
       "5      0.91                        6.07        1.03  \n",
       "6      3.33                        8.14        1.73  \n",
       "7     25.24                       12.22        1.64  \n",
       "8      0.02                       16.84        1.03  \n",
       "9         0                       64.86         2.2  "
      ]
     },
     "execution_count": 18,
     "metadata": {},
     "output_type": "execute_result"
    }
   ],
   "source": [
    "nutrient_df.head(10)"
   ]
  },
  {
   "cell_type": "code",
   "execution_count": 19,
   "id": "3e2f504b",
   "metadata": {},
   "outputs": [
    {
     "data": {
      "text/html": [
       "<div>\n",
       "<style scoped>\n",
       "    .dataframe tbody tr th:only-of-type {\n",
       "        vertical-align: middle;\n",
       "    }\n",
       "\n",
       "    .dataframe tbody tr th {\n",
       "        vertical-align: top;\n",
       "    }\n",
       "\n",
       "    .dataframe thead th {\n",
       "        text-align: right;\n",
       "    }\n",
       "</style>\n",
       "<table border=\"1\" class=\"dataframe\">\n",
       "  <thead>\n",
       "    <tr style=\"text-align: right;\">\n",
       "      <th></th>\n",
       "      <th>Public Food Key</th>\n",
       "      <th>Food Name</th>\n",
       "      <th>Energy, with dietary fibre</th>\n",
       "      <th>Energy, without dietary fibre</th>\n",
       "      <th>Moisture (water)</th>\n",
       "      <th>Protein</th>\n",
       "      <th>Total Fat</th>\n",
       "      <th>Total dietary fibre</th>\n",
       "      <th>Calcium (Ca)</th>\n",
       "      <th>Sodium (Na)</th>\n",
       "      <th>Cobalamin (B12)</th>\n",
       "      <th>Vitamin C</th>\n",
       "      <th>Cholecalciferol (D3)</th>\n",
       "      <th>Vitamin D3 equivalents</th>\n",
       "      <th>Vitamin E</th>\n",
       "      <th>Total saturated fatty acids</th>\n",
       "      <th>Unnamed: 16</th>\n",
       "    </tr>\n",
       "  </thead>\n",
       "  <tbody>\n",
       "    <tr>\n",
       "      <th>count</th>\n",
       "      <td>1534</td>\n",
       "      <td>1534</td>\n",
       "      <td>1535</td>\n",
       "      <td>1535</td>\n",
       "      <td>1535</td>\n",
       "      <td>1535</td>\n",
       "      <td>1535</td>\n",
       "      <td>1535</td>\n",
       "      <td>1535</td>\n",
       "      <td>1535</td>\n",
       "      <td>1535</td>\n",
       "      <td>1535</td>\n",
       "      <td>1535</td>\n",
       "      <td>1534</td>\n",
       "      <td>1535</td>\n",
       "      <td>1031</td>\n",
       "      <td>1535</td>\n",
       "    </tr>\n",
       "    <tr>\n",
       "      <th>unique</th>\n",
       "      <td>1534</td>\n",
       "      <td>1534</td>\n",
       "      <td>1010</td>\n",
       "      <td>995</td>\n",
       "      <td>665</td>\n",
       "      <td>344</td>\n",
       "      <td>322</td>\n",
       "      <td>167</td>\n",
       "      <td>219</td>\n",
       "      <td>387</td>\n",
       "      <td>57</td>\n",
       "      <td>84</td>\n",
       "      <td>40</td>\n",
       "      <td>206</td>\n",
       "      <td>283</td>\n",
       "      <td>505</td>\n",
       "      <td>606</td>\n",
       "    </tr>\n",
       "    <tr>\n",
       "      <th>top</th>\n",
       "      <td>F006825</td>\n",
       "      <td>Coffee, black, from instant coffee powder</td>\n",
       "      <td>3700</td>\n",
       "      <td>3700</td>\n",
       "      <td>0</td>\n",
       "      <td>0</td>\n",
       "      <td>0</td>\n",
       "      <td>0</td>\n",
       "      <td>6</td>\n",
       "      <td>2</td>\n",
       "      <td>0</td>\n",
       "      <td>0</td>\n",
       "      <td>0</td>\n",
       "      <td>0</td>\n",
       "      <td>0</td>\n",
       "      <td>0</td>\n",
       "      <td>0</td>\n",
       "    </tr>\n",
       "    <tr>\n",
       "      <th>freq</th>\n",
       "      <td>1</td>\n",
       "      <td>1</td>\n",
       "      <td>15</td>\n",
       "      <td>15</td>\n",
       "      <td>23</td>\n",
       "      <td>55</td>\n",
       "      <td>163</td>\n",
       "      <td>728</td>\n",
       "      <td>119</td>\n",
       "      <td>64</td>\n",
       "      <td>764</td>\n",
       "      <td>943</td>\n",
       "      <td>992</td>\n",
       "      <td>883</td>\n",
       "      <td>282</td>\n",
       "      <td>286</td>\n",
       "      <td>397</td>\n",
       "    </tr>\n",
       "  </tbody>\n",
       "</table>\n",
       "</div>"
      ],
      "text/plain": [
       "       Public Food Key                                  Food Name  \\\n",
       "count             1534                                       1534   \n",
       "unique            1534                                       1534   \n",
       "top            F006825  Coffee, black, from instant coffee powder   \n",
       "freq                 1                                          1   \n",
       "\n",
       "       Energy, with dietary fibre Energy, without dietary fibre  \\\n",
       "count                        1535                          1535   \n",
       "unique                       1010                           995   \n",
       "top                          3700                          3700   \n",
       "freq                           15                            15   \n",
       "\n",
       "       Moisture (water) Protein Total Fat Total dietary fibre Calcium (Ca)  \\\n",
       "count              1535    1535      1535                1535         1535   \n",
       "unique              665     344       322                 167          219   \n",
       "top                   0       0         0                   0            6   \n",
       "freq                 23      55       163                 728          119   \n",
       "\n",
       "       Sodium (Na) Cobalamin (B12) Vitamin C Cholecalciferol (D3)  \\\n",
       "count         1535            1535      1535                 1535   \n",
       "unique         387              57        84                   40   \n",
       "top              2               0         0                    0   \n",
       "freq            64             764       943                  992   \n",
       "\n",
       "       Vitamin D3 equivalents Vitamin E Total saturated fatty acids  \\\n",
       "count                    1534      1535                        1031   \n",
       "unique                    206       283                         505   \n",
       "top                         0         0                           0   \n",
       "freq                      883       282                         286   \n",
       "\n",
       "       Unnamed: 16  \n",
       "count         1535  \n",
       "unique         606  \n",
       "top              0  \n",
       "freq           397  "
      ]
     },
     "execution_count": 19,
     "metadata": {},
     "output_type": "execute_result"
    }
   ],
   "source": [
    "nutrient_df.describe()"
   ]
  },
  {
   "cell_type": "code",
   "execution_count": 21,
   "id": "91c9b4c9",
   "metadata": {},
   "outputs": [
    {
     "data": {
      "text/plain": [
       "Public Food Key                    1\n",
       "Food Name                          1\n",
       "Energy, with dietary fibre         0\n",
       "Energy, without dietary fibre      0\n",
       "Moisture (water)                   0\n",
       "Protein                            0\n",
       "Total Fat                          0\n",
       "Total dietary fibre                0\n",
       "Calcium (Ca)                       0\n",
       "Sodium (Na)                        0\n",
       "Cobalamin (B12)                    0\n",
       "Vitamin C                          0\n",
       "Cholecalciferol (D3)               0\n",
       "Vitamin D3 equivalents             1\n",
       "Vitamin E                          0\n",
       "Total saturated fatty acids      504\n",
       "Unnamed: 16                        0\n",
       "dtype: int64"
      ]
     },
     "execution_count": 21,
     "metadata": {},
     "output_type": "execute_result"
    }
   ],
   "source": [
    "nutrient_df.isnull().sum()"
   ]
  },
  {
   "cell_type": "code",
   "execution_count": 22,
   "id": "b1e52141",
   "metadata": {},
   "outputs": [
    {
     "name": "stdout",
     "output_type": "stream",
     "text": [
      "<class 'pandas.core.frame.DataFrame'>\n",
      "RangeIndex: 1535 entries, 0 to 1534\n",
      "Data columns (total 17 columns):\n",
      " #   Column                         Non-Null Count  Dtype \n",
      "---  ------                         --------------  ----- \n",
      " 0   Public Food Key                1534 non-null   object\n",
      " 1   Food Name                      1534 non-null   object\n",
      " 2   Energy, with dietary fibre     1535 non-null   object\n",
      " 3   Energy, without dietary fibre  1535 non-null   object\n",
      " 4   Moisture (water)               1535 non-null   object\n",
      " 5   Protein                        1535 non-null   object\n",
      " 6   Total Fat                      1535 non-null   object\n",
      " 7   Total dietary fibre            1535 non-null   object\n",
      " 8   Calcium (Ca)                   1535 non-null   object\n",
      " 9   Sodium (Na)                    1535 non-null   object\n",
      " 10  Cobalamin (B12)                1535 non-null   object\n",
      " 11  Vitamin C                      1535 non-null   object\n",
      " 12  Cholecalciferol (D3)           1535 non-null   object\n",
      " 13  Vitamin D3 equivalents         1534 non-null   object\n",
      " 14  Vitamin E                      1535 non-null   object\n",
      " 15  Total saturated fatty acids    1031 non-null   object\n",
      " 16  Unnamed: 16                    1535 non-null   object\n",
      "dtypes: object(17)\n",
      "memory usage: 204.0+ KB\n"
     ]
    }
   ],
   "source": [
    "nutrient_df.info()"
   ]
  },
  {
   "cell_type": "markdown",
   "id": "2a551e2b",
   "metadata": {},
   "source": [
    "### Dataset merging"
   ]
  },
  {
   "cell_type": "code",
   "execution_count": 23,
   "id": "a35094ee",
   "metadata": {},
   "outputs": [],
   "source": [
    "food_merged_df = nutrient_df.merge(recipe_df, on=\"Public Food Key\")"
   ]
  },
  {
   "cell_type": "code",
   "execution_count": 26,
   "id": "7da6f0dc",
   "metadata": {},
   "outputs": [
    {
     "data": {
      "text/plain": [
       "Public Food Key                     0\n",
       "Food Name_x                         0\n",
       "Energy, with dietary fibre          0\n",
       "Energy, without dietary fibre       0\n",
       "Moisture (water)                    0\n",
       "Protein                             0\n",
       "Total Fat                           0\n",
       "Total dietary fibre                 0\n",
       "Calcium (Ca)                        0\n",
       "Sodium (Na)                         0\n",
       "Cobalamin (B12)                     0\n",
       "Vitamin C                           0\n",
       "Cholecalciferol (D3)                0\n",
       "Vitamin D3 equivalents              0\n",
       "Vitamin E                           0\n",
       "Total saturated fatty acids      1027\n",
       "Unnamed: 16                         0\n",
       "Food Name_y                         0\n",
       "Total Weight Change (%)             0\n",
       "IngredientPublic Food Key           0\n",
       "Ingredient Name                     0\n",
       "Ingredient Weight (g)               0\n",
       "Retention Factor ID                 0\n",
       "dtype: int64"
      ]
     },
     "execution_count": 26,
     "metadata": {},
     "output_type": "execute_result"
    }
   ],
   "source": [
    "food_merged_df.isnull().sum()"
   ]
  }
 ],
 "metadata": {
  "kernelspec": {
   "display_name": "Python 3",
   "language": "python",
   "name": "python3"
  },
  "language_info": {
   "codemirror_mode": {
    "name": "ipython",
    "version": 3
   },
   "file_extension": ".py",
   "mimetype": "text/x-python",
   "name": "python",
   "nbconvert_exporter": "python",
   "pygments_lexer": "ipython3",
   "version": "3.7.4"
  }
 },
 "nbformat": 4,
 "nbformat_minor": 5
}
